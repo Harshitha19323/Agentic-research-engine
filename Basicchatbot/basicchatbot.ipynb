{
 "cells": [
  {
   "cell_type": "markdown",
   "id": "dad865dc",
   "metadata": {},
   "source": [
    "## Build a Basic Chatbot with Langgraph(GRAPH API)"
   ]
  },
  {
   "cell_type": "code",
   "execution_count": 40,
   "id": "cfd20276",
   "metadata": {},
   "outputs": [],
   "source": [
    "from typing import Annotated\n",
    "\n",
    "from typing_extensions import TypedDict\n",
    "\n",
    "from langgraph.graph import StateGraph,START,END\n",
    "\n",
    "from langgraph.graph.message import add_messages\n",
    "\n"
   ]
  },
  {
   "cell_type": "code",
   "execution_count": 41,
   "id": "3d853eba",
   "metadata": {},
   "outputs": [],
   "source": [
    "class State(TypedDict):\n",
    "    #messages have type'list' the add_messages function\n",
    "    #annotation defines how this satte key should be updated\n",
    "    #it appends mesages to list,rather than replacing it\n",
    "    messages: Annotated[list,add_messages]\n",
    "graph_builder=StateGraph(State)\n",
    "#at any point of time we can create the entire graph we can provide info to diff node\n",
    "    "
   ]
  },
  {
   "cell_type": "code",
   "execution_count": 42,
   "id": "8b943db2",
   "metadata": {},
   "outputs": [
    {
     "data": {
      "text/plain": [
       "<langgraph.graph.state.StateGraph at 0x1bb3be97650>"
      ]
     },
     "execution_count": 42,
     "metadata": {},
     "output_type": "execute_result"
    }
   ],
   "source": [
    "graph_builder"
   ]
  },
  {
   "cell_type": "code",
   "execution_count": 43,
   "id": "4e7babf5",
   "metadata": {},
   "outputs": [
    {
     "data": {
      "text/plain": [
       "True"
      ]
     },
     "execution_count": 43,
     "metadata": {},
     "output_type": "execute_result"
    }
   ],
   "source": [
    "##building graph\n",
    "import os\n",
    "from dotenv import load_dotenv\n",
    "load_dotenv()"
   ]
  },
  {
   "cell_type": "code",
   "execution_count": 44,
   "id": "eaf4c114",
   "metadata": {},
   "outputs": [],
   "source": [
    "##define llm\n",
    "from langchain_groq import ChatGroq\n",
    "from langchain.chat_models import init_chat_model\n",
    "\n",
    "llm=ChatGroq(model=\"llama3-8b-8192\",groq_api_key=\"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\")"
   ]
  },
  {
   "cell_type": "code",
   "execution_count": 45,
   "id": "994137cb",
   "metadata": {},
   "outputs": [
    {
     "data": {
      "text/plain": [
       "ChatGroq(client=<groq.resources.chat.completions.Completions object at 0x000001BB3EC809D0>, async_client=<groq.resources.chat.completions.AsyncCompletions object at 0x000001BB3EC81350>, model_name='llama3-8b-8192', model_kwargs={}, groq_api_key=SecretStr('**********'))"
      ]
     },
     "execution_count": 45,
     "metadata": {},
     "output_type": "execute_result"
    }
   ],
   "source": [
    "llm\n"
   ]
  },
  {
   "cell_type": "code",
   "execution_count": 46,
   "id": "13c85362",
   "metadata": {},
   "outputs": [
    {
     "data": {
      "text/plain": [
       "ChatGroq(client=<groq.resources.chat.completions.Completions object at 0x000001BB3EC81CD0>, async_client=<groq.resources.chat.completions.AsyncCompletions object at 0x000001BB3EC82650>, model_name='llama3-8b-8192', model_kwargs={}, groq_api_key=SecretStr('**********'))"
      ]
     },
     "execution_count": 46,
     "metadata": {},
     "output_type": "execute_result"
    }
   ],
   "source": [
    "llm=init_chat_model(\"groq:llama3-8b-8192\",groq_api_key=\"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\")\n",
    "llm"
   ]
  },
  {
   "cell_type": "code",
   "execution_count": 47,
   "id": "6d12b166",
   "metadata": {},
   "outputs": [],
   "source": [
    "##chatbot\n",
    "##node functinality--input msg and give us response and append\n",
    "\n",
    "def chatbot(state:State):\n",
    "    return {\"messages\":[llm.invoke(state[\"messages\"])]}\n",
    "    \n",
    "    "
   ]
  },
  {
   "cell_type": "code",
   "execution_count": 48,
   "id": "80d83678",
   "metadata": {},
   "outputs": [],
   "source": [
    "##start building graph\n",
    "graph_builder=StateGraph(State)\n",
    "#node functionality--adding node to the graph\n",
    "#specify the node name then functionality\n",
    "graph_builder.add_node(\"llmchatbot\",chatbot)\n",
    "##adding edges\n",
    "graph_builder.add_edge(START,\"llmchatbot\")\n",
    "graph_builder.add_edge(\"llmchatbot\",END)\n",
    "\n",
    "##COMPLILE GRAPH\n",
    "graph=graph_builder.compile()"
   ]
  },
  {
   "cell_type": "code",
   "execution_count": 49,
   "id": "18b83088",
   "metadata": {},
   "outputs": [
    {
     "data": {
      "image/png": "[encoded data removed]",
      "text/plain": [
       "<IPython.core.display.Image object>"
      ]
     },
     "metadata": {},
     "output_type": "display_data"
    }
   ],
   "source": [
    "#visualise graph\n",
    "from IPython.display import Image,display\n",
    "\n",
    "try:\n",
    "    display(Image(graph.get_graph().draw_mermaid_png()))\n",
    "except Exception:\n",
    "    pass\n"
   ]
  },
  {
   "cell_type": "code",
   "execution_count": 50,
   "id": "5d765135",
   "metadata": {},
   "outputs": [],
   "source": [
    "response=graph.invoke({\"messages\":\"Hi\"})\n"
   ]
  },
  {
   "cell_type": "code",
   "execution_count": 51,
   "id": "dc29b0d2",
   "metadata": {},
   "outputs": [
    {
     "data": {
      "text/plain": [
       "\"Hi! It's nice to meet you. Is there something I can help you with or would you like to chat?\""
      ]
     },
     "execution_count": 51,
     "metadata": {},
     "output_type": "execute_result"
    }
   ],
   "source": [
    "response[\"messages\"][-1].content"
   ]
  },
  {
   "cell_type": "code",
   "execution_count": 52,
   "id": "1ae715e8",
   "metadata": {},
   "outputs": [
    {
     "name": "stdout",
     "output_type": "stream",
     "text": [
      "Hi! I'm just an AI, so I don't have emotions like humans do, but I'm functioning properly and ready to help with any questions or tasks you have! How about you? How's your day going?\n"
     ]
    }
   ],
   "source": [
    "##streaming it is in 2 ways\n",
    "for event in graph.stream({\"messages\":\"HI,how are you\"}):\n",
    "    for value in event.values():\n",
    "        print(value[\"messages\"][-1].content)\n",
    "  "
   ]
  },
  {
   "cell_type": "code",
   "execution_count": 53,
   "id": "de2484c7",
   "metadata": {},
   "outputs": [],
   "source": [
    "## CHATBHOT WITH TOOL\n"
   ]
  },
  {
   "cell_type": "markdown",
   "id": "f60c0583",
   "metadata": {},
   "source": [
    "## CHATBOT WITH TOOL"
   ]
  },
  {
   "cell_type": "code",
   "execution_count": 54,
   "id": "06e11760",
   "metadata": {},
   "outputs": [
    {
     "data": {
      "text/plain": [
       "{'query': 'what is langgraph?',\n",
       " 'follow_up_questions': None,\n",
       " 'answer': None,\n",
       " 'images': [],\n",
       " 'results': [{'url': 'https://www.datacamp.com/tutorial/langgraph-tutorial',\n",
       "   'title': 'LangGraph Tutorial: What Is LangGraph and How to Use It?',\n",
       "   'content': 'LangGraph is a library within the LangChain ecosystem that provides a framework for defining, coordinating, and executing multiple LLM agents (or chains) in a structured and efficient manner. By managing the flow of data and the sequence of operations, LangGraph allows developers to focus on the high-level logic of their applications rather than the intricacies of agent coordination. Whether you need a chatbot that can handle various types of user requests or a multi-agent system that performs complex tasks, LangGraph provides the tools to build exactly what you need. LangGraph significantly simplifies the development of complex LLM applications by providing a structured framework for managing state and coordinating agent interactions.',\n",
       "   'score': 0.9446333,\n",
       "   'raw_content': None},\n",
       "  {'url': 'https://www.ibm.com/think/topics/langgraph',\n",
       "   'title': 'What is LangGraph? - IBM',\n",
       "   'content': 'LangGraph, created by LangChain, is an open source AI agent framework designed to build, deploy and manage complex generative AI agent workflows. At its core, LangGraph uses the power of graph-based architectures to model and manage the intricate relationships between various components of an AI agent workflow. LangGraph illuminates the processes within an AI workflow, allowing full transparency of the agent’s state. By combining these technologies with a set of APIs and tools, LangGraph provides users with a versatile platform for developing AI solutions and workflows including chatbots, state graphs and other agent-based systems. Nodes: In LangGraph, nodes represent individual components or agents within an AI workflow. LangGraph uses enhanced decision-making by modeling complex relationships between nodes, which means it uses AI agents to analyze their past actions and feedback.',\n",
       "   'score': 0.93844646,\n",
       "   'raw_content': None}],\n",
       " 'response_time': 1.22}"
      ]
     },
     "execution_count": 54,
     "metadata": {},
     "output_type": "execute_result"
    }
   ],
   "source": [
    "from langchain_tavily import TavilySearch\n",
    "tool=TavilySearch(max_results=2)\n",
    "tool.invoke(\"what is langgraph?\")"
   ]
  },
  {
   "cell_type": "code",
   "execution_count": 55,
   "id": "ac369d8e",
   "metadata": {},
   "outputs": [],
   "source": [
    "## Custom function\n",
    "def multiply(a:int,b:int)->int:\n",
    "    \"\"\"Multiply a and b\n",
    "\n",
    "    Args:\n",
    "        a (int): first int\n",
    "        b (int): second int\n",
    "\n",
    "    Returns:\n",
    "        int: output int\n",
    "    \"\"\"\n",
    "    return a*b\n",
    "    "
   ]
  },
  {
   "cell_type": "code",
   "execution_count": 56,
   "id": "f7ae6fac",
   "metadata": {},
   "outputs": [],
   "source": [
    "tools=[tool,multiply]"
   ]
  },
  {
   "cell_type": "code",
   "execution_count": 57,
   "id": "c91dafb3",
   "metadata": {},
   "outputs": [],
   "source": [
    "##binding llmwith tools\n",
    "llm_with_tool=llm.bind_tools(tools)"
   ]
  },
  {
   "cell_type": "code",
   "execution_count": 58,
   "id": "eb310491",
   "metadata": {},
   "outputs": [
    {
     "data": {
      "text/plain": [
       "RunnableBinding(bound=ChatGroq(client=<groq.resources.chat.completions.Completions object at 0x000001BB3EC81CD0>, async_client=<groq.resources.chat.completions.AsyncCompletions object at 0x000001BB3EC82650>, model_name='llama3-8b-8192', model_kwargs={}, groq_api_key=SecretStr('**********')), kwargs={'tools': [{'type': 'function', 'function': {'name': 'tavily_search', 'description': 'A search engine optimized for comprehensive, accurate, and trusted results. Useful for when you need to answer questions about current events. It not only retrieves URLs and snippets, but offers advanced search depths, domain management, time range filters, and image search, this tool delivers real-time, accurate, and citation-backed results.Input should be a search query.', 'parameters': {'properties': {'query': {'description': 'Search query to look up', 'type': 'string'}, 'include_domains': {'anyOf': [{'items': {'type': 'string'}, 'type': 'array'}, {'type': 'null'}], 'default': [], 'description': 'A list of domains to restrict search results to.\\n\\n        Use this parameter when:\\n        1. The user explicitly requests information from specific websites (e.g., \"Find climate data from nasa.gov\")\\n        2. The user mentions an organization or company without specifying the domain (e.g., \"Find information about iPhones from Apple\")\\n\\n        In both cases, you should determine the appropriate domains (e.g., [\"nasa.gov\"] or [\"apple.com\"]) and set this parameter.\\n\\n        Results will ONLY come from the specified domains - no other sources will be included.\\n        Default is None (no domain restriction).\\n        '}, 'exclude_domains': {'anyOf': [{'items': {'type': 'string'}, 'type': 'array'}, {'type': 'null'}], 'default': [], 'description': 'A list of domains to exclude from search results.\\n\\n        Use this parameter when:\\n        1. The user explicitly requests to avoid certain websites (e.g., \"Find information about climate change but not from twitter.com\")\\n        2. The user mentions not wanting results from specific organizations without naming the domain (e.g., \"Find phone reviews but nothing from Apple\")\\n\\n        In both cases, you should determine the appropriate domains to exclude (e.g., [\"twitter.com\"] or [\"apple.com\"]) and set this parameter.\\n\\n        Results will filter out all content from the specified domains.\\n        Default is None (no domain exclusion).\\n        '}, 'search_depth': {'anyOf': [{'enum': ['basic', 'advanced'], 'type': 'string'}, {'type': 'null'}], 'default': 'basic', 'description': 'Controls search thoroughness and result comprehensiveness.\\n    \\n        Use \"basic\" for simple queries requiring quick, straightforward answers.\\n        \\n        Use \"advanced\" (default) for complex queries, specialized topics, \\n        rare information, or when in-depth analysis is needed.\\n        '}, 'include_images': {'anyOf': [{'type': 'boolean'}, {'type': 'null'}], 'default': False, 'description': 'Determines if the search returns relevant images along with text results.\\n   \\n        Set to True when the user explicitly requests visuals or when images would \\n        significantly enhance understanding (e.g., \"Show me what black holes look like,\" \\n        \"Find pictures of Renaissance art\").\\n        \\n        Leave as False (default) for most informational queries where text is sufficient.\\n        '}, 'time_range': {'anyOf': [{'enum': ['day', 'week', 'month', 'year'], 'type': 'string'}, {'type': 'null'}], 'default': None, 'description': 'Limits results to content published within a specific timeframe.\\n        \\n        ONLY set this when the user explicitly mentions a time period \\n        (e.g., \"latest AI news,\" \"articles from last week\").\\n        \\n        For less popular or niche topics, use broader time ranges \\n        (\"month\" or \"year\") to ensure sufficient relevant results.\\n   \\n        Options: \"day\" (24h), \"week\" (7d), \"month\" (30d), \"year\" (365d).\\n        \\n        Default is None.\\n        '}, 'topic': {'anyOf': [{'enum': ['general', 'news', 'finance'], 'type': 'string'}, {'type': 'null'}], 'default': 'general', 'description': 'Specifies search category for optimized results.\\n   \\n        Use \"general\" (default) for most queries, INCLUDING those with terms like \\n        \"latest,\" \"newest,\" or \"recent\" when referring to general information.\\n\\n        Use \"finance\" for markets, investments, economic data, or financial news.\\n\\n        Use \"news\" ONLY for politics, sports, or major current events covered by \\n        mainstream media - NOT simply because a query asks for \"new\" information.\\n        '}, 'include_favicon': {'anyOf': [{'type': 'boolean'}, {'type': 'null'}], 'default': False, 'description': \"Determines whether to include favicon URLs for each search result.\\n        \\n        When enabled, each search result will include the website's favicon URL,\\n        which can be useful for:\\n        - Building rich UI interfaces with visual website indicators\\n        - Providing visual cues about the source's credibility or brand\\n        - Creating bookmark-like displays with recognizable site icons\\n        \\n        Set to True when creating user interfaces that benefit from visual branding\\n        or when favicon information enhances the user experience.\\n        \\n        Default is False to minimize response size and API usage.\\n        \"}, 'start_date': {'anyOf': [{'type': 'string'}, {'type': 'null'}], 'default': None, 'description': 'Filters search results to include only content published on or after this date.\\n        \\n        Use this parameter when you need to:\\n        - Find recent developments or updates on a topic\\n        - Exclude outdated information from search results\\n        - Focus on content within a specific timeframe\\n        - Combine with end_date to create a custom date range\\n        \\n        Format must be YYYY-MM-DD (e.g., \"2024-01-15\" for January 15, 2024).\\n        \\n        Examples:\\n        - \"2024-01-01\" - Results from January 1, 2024 onwards\\n        - \"2023-12-25\" - Results from December 25, 2023 onwards\\n        \\n        When combined with end_date, creates a precise date range filter.\\n        \\n        Default is None (no start date restriction).\\n        '}, 'end_date': {'anyOf': [{'type': 'string'}, {'type': 'null'}], 'default': None, 'description': 'Filters search results to include only content published on or before this date.\\n        \\n        Use this parameter when you need to:\\n        - Exclude content published after a certain date\\n        - Study historical information or past events\\n        - Research how topics were covered during specific time periods\\n        - Combine with start_date to create a custom date range\\n        \\n        Format must be YYYY-MM-DD (e.g., \"2024-03-31\" for March 31, 2024).\\n        \\n        Examples:\\n        - \"2024-03-31\" - Results up to and including March 31, 2024\\n        - \"2023-12-31\" - Results up to and including December 31, 2023\\n        \\n        When combined with start_date, creates a precise date range filter.\\n        For example: start_date=\"2024-01-01\", end_date=\"2024-03-31\" \\n        returns results from Q1 2024 only.\\n        \\n        Default is None (no end date restriction).\\n        '}}, 'required': ['query'], 'type': 'object'}}}, {'type': 'function', 'function': {'name': 'multiply', 'description': 'Multiply a and b', 'parameters': {'properties': {'a': {'description': 'first int', 'type': 'integer'}, 'b': {'description': 'second int', 'type': 'integer'}}, 'required': ['a', 'b'], 'type': 'object'}}}]}, config={}, config_factories=[])"
      ]
     },
     "execution_count": 58,
     "metadata": {},
     "output_type": "execute_result"
    }
   ],
   "source": [
    "llm_with_tool"
   ]
  },
  {
   "cell_type": "code",
   "execution_count": 59,
   "id": "d63aa6b1",
   "metadata": {},
   "outputs": [
    {
     "data": {
      "image/png": "[encoded data removed]",
      "text/plain": [
       "<IPython.core.display.Image object>"
      ]
     },
     "metadata": {},
     "output_type": "display_data"
    }
   ],
   "source": [
    "##tool used in chatbot node\n",
    "##stategraph\n",
    "from langgraph.graph import StateGraph,START,END\n",
    "##ADDING TOOL\n",
    "from langgraph.prebuilt import ToolNode\n",
    "##tool to be converted to tool node\n",
    "from langgraph.prebuilt import tools_condition\n",
    "\n",
    "##node definition\n",
    "def tool_calling_llm(state:State):\n",
    "     return {\"messages\":[llm_with_tool.invoke(state[\"messages\"])]}\n",
    "\n",
    "##graph\n",
    "builder=StateGraph(State)\n",
    "##we need to 2nodes\n",
    "builder.add_node(\"tool_calling_llm\",tool_calling_llm) ##1. tool name,def\n",
    "builder.add_node(\"tools\",ToolNode(tools)) ##2. tool name,def\n",
    "\n",
    "##edges 2 edges-end,tool they are conditional edges\n",
    "\n",
    "builder.add_edge(START,\"tool_calling_llm\")\n",
    "builder.add_conditional_edges(\n",
    "    \"tool_calling_llm\",\n",
    "    ##2 condtions\n",
    "    # If the latest message (result) from assistant is a tool call -> tools_condition routes to tools\n",
    "    # If the latest message (result) from assistant is a not a tool call -> tools_condition routes to END\n",
    "    tools_condition\n",
    "    \n",
    ")\n",
    "builder.add_edge(\"tools\",END)\n",
    "\n",
    "##compile the graph\n",
    "\n",
    "graph=builder.compile()\n",
    "\n",
    "#visualise graph\n",
    "from IPython.display import Image,display\n",
    "\n",
    "try:\n",
    "    display(Image(graph.get_graph().draw_mermaid_png()))\n",
    "except Exception:\n",
    "    pass\n"
   ]
  },
  {
   "cell_type": "code",
   "execution_count": 60,
   "id": "f9fa4563",
   "metadata": {},
   "outputs": [],
   "source": [
    "\n",
    "response=graph.invoke({\"messages\":\"What is the recent ai news\"})"
   ]
  },
  {
   "cell_type": "code",
   "execution_count": 61,
   "id": "4c4da2e5",
   "metadata": {},
   "outputs": [
    {
     "data": {
      "text/plain": [
       "'{\"query\": \"recent ai news\", \"follow_up_questions\": null, \"answer\": null, \"images\": [], \"results\": [{\"url\": \"https://macholevante.com/ai-stock-frenzy-record-highs-bold-bets-and-backlash-in-late-july-2025/\", \"title\": \"AI Stock Frenzy: Record Highs, Bold Bets, and Backlash in Late July 2025 - Macholevante\", \"score\": 0.71377134, \"published_date\": \"Wed, 30 Jul 2025 09:10:35 GMT\", \"content\": \"In a headline announcement, leading AI chipmakers (including Huawei, Biren, Enflame, and Moore Threads) teamed up with top large-model developers (like StepFun and MiniMax) to form the **“Model-Chip Ecosystem Innovation Alliance.”** The goal of this alliance is to **standardize a homegrown AI tech stack** – linking **hardware and software** – so that Chinese AI labs can seamlessly swap in domestic chips for Nvidia’s and still run advanced AI models tomshardware.comtomshardware.com. **Sources:** Major financial news outlets and company reports (Bloomberg, Reuters, AP, Investopedia, TechCrunch) covering AI stock developments on July 29–30, 2025, including earnings releases, analyst commentary, and government announcements nasdaq.comreuters.comwhitehouse.govinvestopedia.comreuters.cominvestopedia.comtomshardware.comaccesswdun.com.\", \"raw_content\": null}, {\"url\": \"https://www.hotelnewsresource.com/article137461.html\", \"title\": \"Are You Ghosting the Internet? Its Survival Could Depend On You! - Hotel News Resource\", \"score\": 0.5951402, \"published_date\": \"Wed, 30 Jul 2025 13:05:25 GMT\", \"content\": \"**The introduction of AI-generated search summaries by Google is significantly impacting web traffic, potentially threatening the survival of many websites reliant on traditional search clicks.** In recent years, Google has introduced a significant change to its search results, replacing traditional blue links with AI-generated summaries known as \\\\\"AI Overviews.\\\\\" This shift is altering user behavior, as many individuals now rely on these AI responses rather than clicking through to websites. Google argues that AI Overviews provide high-quality clicks and new opportunities for users to discover websites. As AI technology continues to evolve, its impact on internet traffic and content creation remains a critical issue.\", \"raw_content\": null}], \"response_time\": 0.33}'"
      ]
     },
     "execution_count": 61,
     "metadata": {},
     "output_type": "execute_result"
    }
   ],
   "source": [
    "response[\"messages\"][-1].content"
   ]
  },
  {
   "cell_type": "code",
   "execution_count": 62,
   "id": "9bfdff48",
   "metadata": {},
   "outputs": [
    {
     "name": "stdout",
     "output_type": "stream",
     "text": [
      "================================\u001b[1m Human Message \u001b[0m=================================\n",
      "\n",
      "What is the recent ai news\n",
      "==================================\u001b[1m Ai Message \u001b[0m==================================\n",
      "Tool Calls:\n",
      "  tavily_search (2sp2n6vqw)\n",
      " Call ID: 2sp2n6vqw\n",
      "  Args:\n",
      "    query: recent ai news\n",
      "    time_range: day\n",
      "    topic: news\n",
      "=================================\u001b[1m Tool Message \u001b[0m=================================\n",
      "Name: tavily_search\n",
      "\n",
      "{\"query\": \"recent ai news\", \"follow_up_questions\": null, \"answer\": null, \"images\": [], \"results\": [{\"url\": \"https://macholevante.com/ai-stock-frenzy-record-highs-bold-bets-and-backlash-in-late-july-2025/\", \"title\": \"AI Stock Frenzy: Record Highs, Bold Bets, and Backlash in Late July 2025 - Macholevante\", \"score\": 0.71377134, \"published_date\": \"Wed, 30 Jul 2025 09:10:35 GMT\", \"content\": \"In a headline announcement, leading AI chipmakers (including Huawei, Biren, Enflame, and Moore Threads) teamed up with top large-model developers (like StepFun and MiniMax) to form the **“Model-Chip Ecosystem Innovation Alliance.”** The goal of this alliance is to **standardize a homegrown AI tech stack** – linking **hardware and software** – so that Chinese AI labs can seamlessly swap in domestic chips for Nvidia’s and still run advanced AI models tomshardware.comtomshardware.com. **Sources:** Major financial news outlets and company reports (Bloomberg, Reuters, AP, Investopedia, TechCrunch) covering AI stock developments on July 29–30, 2025, including earnings releases, analyst commentary, and government announcements nasdaq.comreuters.comwhitehouse.govinvestopedia.comreuters.cominvestopedia.comtomshardware.comaccesswdun.com.\", \"raw_content\": null}, {\"url\": \"https://www.hotelnewsresource.com/article137461.html\", \"title\": \"Are You Ghosting the Internet? Its Survival Could Depend On You! - Hotel News Resource\", \"score\": 0.5951402, \"published_date\": \"Wed, 30 Jul 2025 13:05:25 GMT\", \"content\": \"**The introduction of AI-generated search summaries by Google is significantly impacting web traffic, potentially threatening the survival of many websites reliant on traditional search clicks.** In recent years, Google has introduced a significant change to its search results, replacing traditional blue links with AI-generated summaries known as \\\"AI Overviews.\\\" This shift is altering user behavior, as many individuals now rely on these AI responses rather than clicking through to websites. Google argues that AI Overviews provide high-quality clicks and new opportunities for users to discover websites. As AI technology continues to evolve, its impact on internet traffic and content creation remains a critical issue.\", \"raw_content\": null}], \"response_time\": 0.33}\n"
     ]
    }
   ],
   "source": [
    "for  m in response['messages']:\n",
    "    m.pretty_print()  # Use pretty_print to display the message content in a readable format"
   ]
  },
  {
   "cell_type": "code",
   "execution_count": 63,
   "id": "87e6d566",
   "metadata": {},
   "outputs": [
    {
     "name": "stdout",
     "output_type": "stream",
     "text": [
      "================================\u001b[1m Human Message \u001b[0m=================================\n",
      "\n",
      "what is 2 multiplied by 3 and then multiply 10?\n",
      "==================================\u001b[1m Ai Message \u001b[0m==================================\n",
      "Tool Calls:\n",
      "  multiply (k5abcvbnv)\n",
      " Call ID: k5abcvbnv\n",
      "  Args:\n",
      "    a: 2\n",
      "    b: 3\n",
      "  multiply (5jn2j3fb4)\n",
      " Call ID: 5jn2j3fb4\n",
      "  Args:\n",
      "    a: 6\n",
      "    b: 10\n",
      "=================================\u001b[1m Tool Message \u001b[0m=================================\n",
      "Name: multiply\n",
      "\n",
      "6\n",
      "=================================\u001b[1m Tool Message \u001b[0m=================================\n",
      "Name: multiply\n",
      "\n",
      "60\n"
     ]
    }
   ],
   "source": [
    "response=graph.invoke({\"messages\":\"what is 2 multiplied by 3 and then multiply 10?\"})\n",
    "for  m in response['messages']:\n",
    "    m.pretty_print()"
   ]
  },
  {
   "cell_type": "markdown",
   "id": "487eb0d9",
   "metadata": {},
   "source": [
    "## reAct agent architecture"
   ]
  },
  {
   "cell_type": "markdown",
   "id": "4a37a78c",
   "metadata": {},
   "source": [
    "we here change the structure of graph here so that if we have different questions in same i/p that llm does toolcall get the response and search for the next question gets the response and then combine the outputs to give us the o/p---this is where we have agent this is called react agent architecture"
   ]
  },
  {
   "cell_type": "code",
   "execution_count": 64,
   "id": "627d0a6c",
   "metadata": {},
   "outputs": [
    {
     "data": {
      "image/png": "[encoded data removed]",
      "text/plain": [
       "<IPython.core.display.Image object>"
      ]
     },
     "metadata": {},
     "output_type": "display_data"
    }
   ],
   "source": [
    "\n",
    "##stategraph\n",
    "from langgraph.graph import StateGraph,START,END\n",
    "##ADDING TOOL\n",
    "from langgraph.prebuilt import ToolNode\n",
    "##tool to be converted to tool node\n",
    "from langgraph.prebuilt import tools_condition\n",
    "\n",
    "##node definition\n",
    "def tool_calling_llm(state:State):\n",
    "     return {\"messages\":[llm_with_tool.invoke(state[\"messages\"])]}\n",
    "\n",
    "##graph\n",
    "builder=StateGraph(State)\n",
    "##we need to 2nodes\n",
    "builder.add_node(\"tool_calling_llm\",tool_calling_llm) ##1. tool name,def\n",
    "builder.add_node(\"tools\",ToolNode(tools)) ##2. tool name,def\n",
    "\n",
    "##edges 2 edges-end,tool they are conditional edges\n",
    "\n",
    "builder.add_edge(START,\"tool_calling_llm\")\n",
    "builder.add_conditional_edges(\n",
    "    \"tool_calling_llm\",\n",
    "    ##2 condtions\n",
    "    # If the latest message (result) from assistant is a tool call -> tools_condition routes to tools\n",
    "    # If the latest message (result) from assistant is a not a tool call -> tools_condition routes to END\n",
    "    tools_condition\n",
    "    \n",
    ")\n",
    "builder.add_edge(\"tools\",\"tool_calling_llm\")  # Loop back to tool_calling_llm if a tool call is made\n",
    "\n",
    "##compile the graph\n",
    "\n",
    "graph=builder.compile()\n",
    "\n",
    "#visualise graph\n",
    "from IPython.display import Image,display\n",
    "\n",
    "try:\n",
    "    display(Image(graph.get_graph().draw_mermaid_png()))\n",
    "except Exception:\n",
    "    pass"
   ]
  },
  {
   "cell_type": "code",
   "execution_count": 65,
   "id": "423354c4",
   "metadata": {},
   "outputs": [
    {
     "name": "stdout",
     "output_type": "stream",
     "text": [
      "================================\u001b[1m Human Message \u001b[0m=================================\n",
      "\n",
      "what is recent ai news and then 5 multiply 10?\n",
      "==================================\u001b[1m Ai Message \u001b[0m==================================\n",
      "Tool Calls:\n",
      "  tavily_search (nqp29c226)\n",
      " Call ID: nqp29c226\n",
      "  Args:\n",
      "    query: recent ai news\n",
      "    search_depth: advanced\n",
      "    topic: news\n",
      "=================================\u001b[1m Tool Message \u001b[0m=================================\n",
      "Name: tavily_search\n",
      "\n",
      "{\"query\": \"recent ai news\", \"follow_up_questions\": null, \"answer\": null, \"images\": [], \"results\": [{\"url\": \"https://zamin.uz/en/technology/155797-nvidia-rival-groq-to-raise-big-in-ai-chip-race.html\", \"title\": \"NVIDIA rival Groq to raise big in AI chip race - Zamin.uz\", \"score\": 0.70944256, \"published_date\": \"Tue, 29 Jul 2025 23:28:00 GMT\", \"content\": \"Image 43: Tesla has signed a $16.5 billion (approx. 208 trillion Tesla signs $16.5B AI chip deal with Samsung Image 44Yesterday, 03:32\\n\\nImage 45: Facial recognition technology, once limited to identity Facial payment technology is expanding in South Korea Image 4621:29, 28-07-2025\\n\\nImage 47: OpenAI has entered into a strategic partnership with OpenAI is building the world's largest AI data center called Stargate Image 48Yesterday, 02:03\\n\\nAbout the Site\\n\\n \\\"Zamin\\\" - News of Uzbekistan. [...] Image 20: OpenAI has launched a new “Study Mode” feature in ChatGPT, OpenAI adds Study Mode to ChatGPT for learners Today, 02:30\\n\\nImage 21: Adobe Photoshop has introduced a new AI-powered feature Photoshop now uses AI to add people and objects naturally Today, 02:06\\n\\nImage 22: YouTube is introducing neural network technology to YouTube to detect teens using neural networks Today, 01:56\\n\\nMost Read [...] In recent months, Groq has reportedly held partnership talks with OpenAI, xAI, and other major players in the AI sector.\\n\\nIf finalized, the investment could position Groq as a leading challenger to NVIDIA in the growing AI hardware market.\\n\\nWhile no official statement has been made yet, the deal is expected to close soon.\\n\\nAI ChipGroq StartupFunding RoundNVIDIA CompetitorHigh-Performance Chips\\n\\nRead 'Zamin' on Telegram!\\n\\nImage 6: Nodirbek Razzokov\\n\\nNodirbek Razzokov Editor of «ZAMIN.UZ»\\n\\nCtrl\", \"raw_content\": null}, {\"url\": \"https://www.reuters.com/business/autos-transportation/tech-firms-showcase-ai-innovations-china-under-us-sanctions-2025-07-25/\", \"title\": \"Tech firms to showcase AI innovations in a China under US sanctions - Reuters\", \"score\": 0.64880073, \"published_date\": \"Fri, 25 Jul 2025 03:41:11 GMT\", \"content\": \"An AI (Artificial Intelligence) sign is seen at the World Artificial Intelligence Conference (WAIC) in Shanghai, China July 6, 2023. REUTERS/Aly Song/File Photo Purchase Licensing Rights, opens new tab\\n\\n   Companies\\n\\n   Alibaba Group Holding LtdFollow   \\n   Alphabet IncFollow   \\n   Amazon.com IncFollow   \\n\\nShow more companies\", \"raw_content\": null}], \"response_time\": 1.08}\n",
      "==================================\u001b[1m Ai Message \u001b[0m==================================\n",
      "\n",
      "Based on the results from the \"tavily_search\" tool, I'll provide an answer to the follow-up question \"5 multiply 10\".\n",
      "\n",
      "The answer is: 50\n",
      "\n",
      "Note that there was no further processing or tool calls required to answer this question, as the result can be directly calculated from the input.\n"
     ]
    }
   ],
   "source": [
    "response=graph.invoke({\"messages\":\"what is recent ai news and then 5 multiply 10?\"})\n",
    "for  m in response['messages']:\n",
    "    m.pretty_print()"
   ]
  },
  {
   "cell_type": "markdown",
   "id": "4f3685e3",
   "metadata": {},
   "source": [
    "## Adding Memory in Agentic Graph"
   ]
  },
  {
   "cell_type": "code",
   "execution_count": 66,
   "id": "05f4ad55",
   "metadata": {},
   "outputs": [
    {
     "name": "stdout",
     "output_type": "stream",
     "text": [
      "================================\u001b[1m Human Message \u001b[0m=================================\n",
      "\n",
      "Hello,i am phoebe\n",
      "==================================\u001b[1m Ai Message \u001b[0m==================================\n",
      "Tool Calls:\n",
      "  tavily_search (rx2katn2d)\n",
      " Call ID: rx2katn2d\n",
      "  Args:\n",
      "    query: define phoebe\n",
      "=================================\u001b[1m Tool Message \u001b[0m=================================\n",
      "Name: tavily_search\n",
      "\n",
      "{\"query\": \"define phoebe\", \"follow_up_questions\": null, \"answer\": null, \"images\": [], \"results\": [{\"url\": \"https://www.merriam-webster.com/dictionary/phoebe\", \"title\": \"PHOEBE Definition & Meaning - Merriam-Webster\", \"content\": \"The meaning of PHOEBE is any of a genus (Sayornis) of the tyrant flycatcher family; especially : a flycatcher (S. phoebe) of the eastern U.S. that has a\", \"score\": 0.8851659, \"raw_content\": null}, {\"url\": \"https://en.wikipedia.org/wiki/Phoebe_(given_name)\", \"title\": \"Phoebe (given name) - Wikipedia\", \"content\": \"Phoebe or Phœbe is a female name, the feminine form of the male name Phoebus an epithet of Apollo meaning \\\"bright\\\", \\\"shining\\\", and “pure”. Phoebe\", \"score\": 0.8232293, \"raw_content\": null}], \"response_time\": 1.1}\n",
      "==================================\u001b[1m Ai Message \u001b[0m==================================\n",
      "Tool Calls:\n",
      "  tavily_search (9nr3zpmg2)\n",
      " Call ID: 9nr3zpmg2\n",
      "  Args:\n",
      "    query: what is phoebe\n",
      "=================================\u001b[1m Tool Message \u001b[0m=================================\n",
      "Name: tavily_search\n",
      "\n",
      "{\"query\": \"what is phoebe\", \"follow_up_questions\": null, \"answer\": null, \"images\": [], \"results\": [{\"url\": \"https://www.merriam-webster.com/dictionary/phoebe\", \"title\": \"PHOEBE Definition & Meaning - Merriam-Webster\", \"content\": \"The meaning of PHOEBE is any of a genus (Sayornis) of the tyrant flycatcher family; especially : a flycatcher (S. phoebe) of the eastern U.S. that has a\", \"score\": 0.8565368, \"raw_content\": null}, {\"url\": \"https://en.wikipedia.org/wiki/Phoebe_(Titaness)\", \"title\": \"Phoebe (Titaness) - Wikipedia\", \"content\": \"'bright') is one of the first generation of Titans, who were one set of sons and daughters of Uranus and Gaia, the sky and the earth.\", \"score\": 0.7460839, \"raw_content\": null}], \"response_time\": 1.33}\n",
      "==================================\u001b[1m Ai Message \u001b[0m==================================\n",
      "\n",
      "Here's the next question:\n",
      "\n",
      "Phoebe is a fascinating name with multiple meanings. Can you tell me more about the Phoebe flycatcher and its habits?\n"
     ]
    }
   ],
   "source": [
    "##adding memmory solves major problm in agentic ai that is persistent checkpointing\n",
    "response=graph.invoke({\"messages\":\"Hello,i am phoebe\"})\n",
    "for  m in response['messages']:\n",
    "    m.pretty_print()\n"
   ]
  },
  {
   "cell_type": "code",
   "execution_count": 67,
   "metadata": {},
   "outputs": [
    {
     "name": "stdout",
     "output_type": "stream",
     "text": [
      "================================\u001b[1m Human Message \u001b[0m=================================\n",
      "\n",
      "what is my name?\n",
      "==================================\u001b[1m Ai Message \u001b[0m==================================\n",
      "\n",
      "I'm happy to help! However, I'm a large language model, I don't have the ability to know or remember your name. Each time you interact with me, it's a new conversation and I don't retain any information from previous conversations.\n",
      "\n",
      "But if you'd like to introduce yourself, I'd be happy to chat with you!\n"
     ]
    }
   ],
   "source": [
    "##adding memory solves major problm in agentic ai that is persistent checkpointing\n",
    "response=graph.invoke({\"messages\":\"what is my name?\"})\n",
    "for  m in response['messages']:\n",
    "    m.pretty_print()"
   ]
  },
  {
   "cell_type": "markdown",
   "id": "510f1d56",
   "metadata": {},
   "source": [
    "to add memory saver checkpoint to have the entire information of the convo we have"
   ]
  },
  {
   "cell_type": "code",
   "execution_count": 68,
   "id": "17c29441",
   "metadata": {},
   "outputs": [
    {
     "data": {
      "image/png": "[encoded data removed]",
      "text/plain": [
       "<IPython.core.display.Image object>"
      ]
     },
     "metadata": {},
     "output_type": "display_data"
    }
   ],
   "source": [
    "\n",
    "##stategraph\n",
    "from langgraph.graph import StateGraph,START,END\n",
    "##ADDING TOOL\n",
    "from langgraph.prebuilt import ToolNode\n",
    "##tool to be converted to tool node\n",
    "from langgraph.prebuilt import tools_condition\n",
    "##langgraph creates memory saver checkppoint\n",
    "from langgraph.checkpoint.memory import MemorySaver\n",
    "\n",
    "memory=MemorySaver()\n",
    "\n",
    "##node definition\n",
    "def tool_calling_llm(state:State):\n",
    "     return {\"messages\":[llm_with_tool.invoke(state[\"messages\"])]}\n",
    "\n",
    "##graph\n",
    "builder=StateGraph(State)\n",
    "##we need to 2nodes\n",
    "builder.add_node(\"tool_calling_llm\",tool_calling_llm) ##1. tool name,def\n",
    "builder.add_node(\"tools\",ToolNode(tools)) ##2. tool name,def\n",
    "\n",
    "##edges 2 edges-end,tool they are conditional edges\n",
    "\n",
    "builder.add_edge(START,\"tool_calling_llm\")\n",
    "builder.add_conditional_edges(\n",
    "    \"tool_calling_llm\",\n",
    "    ##2 condtions\n",
    "    # If the latest message (result) from assistant is a tool call -> tools_condition routes to tools\n",
    "    # If the latest message (result) from assistant is a not a tool call -> tools_condition routes to END\n",
    "    tools_condition\n",
    "    \n",
    ")\n",
    "builder.add_edge(\"tools\",\"tool_calling_llm\")  # Loop back to tool_calling_llm if a tool call is made\n",
    "\n",
    "##compile the graph\n",
    "\n",
    "graph=builder.compile(checkpointer=memory)\n",
    "\n",
    "#visualise graph\n",
    "from IPython.display import Image,display\n",
    "\n",
    "try:\n",
    "    display(Image(graph.get_graph().draw_mermaid_png()))\n",
    "except Exception:\n",
    "    pass"
   ]
  },
  {
   "cell_type": "code",
   "execution_count": 69,
   "id": "ab1e632e",
   "metadata": {},
   "outputs": [
    {
     "data": {
      "text/plain": [
       "{'messages': [HumanMessage(content='Hi my name is phoebe', additional_kwargs={}, response_metadata={}, id='9c58e7ee-7fb1-44e2-afa4-f63b6472ebcf'),\n",
       "  AIMessage(content='Nice to meet you, Phoebe!', additional_kwargs={}, response_metadata={'token_usage': {'completion_tokens': 10, 'prompt_tokens': 2907, 'total_tokens': 2917, 'completion_time': 0.00707975, 'prompt_time': 0.342608633, 'queue_time': 0.26691375800000006, 'total_time': 0.349688383}, 'model_name': 'llama3-8b-8192', 'system_fingerprint': 'fp_0fb809dba3', 'service_tier': 'on_demand', 'finish_reason': 'stop', 'logprobs': None}, id='run--32c14abf-2606-49d4-b6e1-fcd853e0e692-0', usage_metadata={'input_tokens': 2907, 'output_tokens': 10, 'total_tokens': 2917})]}"
      ]
     },
     "execution_count": 69,
     "metadata": {},
     "output_type": "execute_result"
    }
   ],
   "source": [
    "##we create thread to use specific memory for previous conversation\n",
    "## thread id is imp becoz it is related to one specific session\n",
    "##we should have configurable key,thread with particuarkey value pair that should be unique\n",
    "config={\"configurable\":{\"thread_id\":\"1\"}}\n",
    "## make sure \n",
    "response=graph.invoke({\"messages\":\"Hi my name is phoebe\"},config=config)\n",
    "\n",
    "response"
   ]
  },
  {
   "cell_type": "code",
   "execution_count": 70,
   "id": "1ec990ff",
   "metadata": {},
   "outputs": [
    {
     "data": {
      "text/plain": [
       "'Nice to meet you, Phoebe!'"
      ]
     },
     "execution_count": 70,
     "metadata": {},
     "output_type": "execute_result"
    }
   ],
   "source": [
    "response[\"messages\"][-1].content"
   ]
  },
  {
   "cell_type": "code",
   "execution_count": 71,
   "id": "63bca173",
   "metadata": {},
   "outputs": [
    {
     "data": {
      "text/plain": [
       "'Your name is Phoebe.'"
      ]
     },
     "execution_count": 71,
     "metadata": {},
     "output_type": "execute_result"
    }
   ],
   "source": [
    "response=graph.invoke({\"messages\":\"what is my name \"},config=config)\n",
    "\n",
    "response[\"messages\"][-1].content"
   ]
  },
  {
   "cell_type": "code",
   "execution_count": 72,
   "id": "b9b2f9c9",
   "metadata": {},
   "outputs": [
    {
     "data": {
      "text/plain": [
       "'Yes, your name is Phoebe.'"
      ]
     },
     "execution_count": 72,
     "metadata": {},
     "output_type": "execute_result"
    }
   ],
   "source": [
    "response=graph.invoke({\"messages\":\"do you remember my name \"},config=config)\n",
    "\n",
    "response[\"messages\"][-1].content"
   ]
  },
  {
   "cell_type": "code",
   "execution_count": null,
   "id": "18c31281",
   "metadata": {},
   "outputs": [],
   "source": []
  },
  {
   "cell_type": "markdown",
   "id": "8e6c2f60",
   "metadata": {},
   "source": [
    "## Streaming"
   ]
  },
  {
   "cell_type": "code",
   "execution_count": 73,
   "id": "71cb2810",
   "metadata": {},
   "outputs": [],
   "source": [
    "from langgraph.checkpoint.memory import MemorySaver\n",
    "memory=MemorySaver()"
   ]
  },
  {
   "cell_type": "code",
   "execution_count": 74,
   "id": "134da519",
   "metadata": {},
   "outputs": [],
   "source": [
    "def superbot(state:State):\n",
    "    return {\"messages\":[llm.invoke(state['messages'])]}"
   ]
  },
  {
   "cell_type": "code",
   "execution_count": 75,
   "id": "3721ac29",
   "metadata": {},
   "outputs": [
    {
     "data": {
      "image/png": "[encoded data removed]",
      "text/plain": [
       "<IPython.core.display.Image object>"
      ]
     },
     "metadata": {},
     "output_type": "display_data"
    }
   ],
   "source": [
    "#graph\n",
    "#node--superbot,compile with checkpointer memory\n",
    "graph=StateGraph(State)\n",
    "\n",
    "## node\n",
    "graph.add_node(\"SuperBot\",superbot)\n",
    "## Edges\n",
    "\n",
    "graph.add_edge(START,\"SuperBot\")\n",
    "graph.add_edge(\"SuperBot\",END)\n",
    "\n",
    "\n",
    "graph_builder=graph.compile(checkpointer=memory)\n",
    "\n",
    "\n",
    "## Display\n",
    "from IPython.display import Image, display\n",
    "display(Image(graph_builder.get_graph().draw_mermaid_png()))\n"
   ]
  },
  {
   "cell_type": "code",
   "execution_count": 76,
   "id": "16ac5638",
   "metadata": {},
   "outputs": [
    {
     "data": {
      "text/plain": [
       "{'messages': [HumanMessage(content='hi ,my name is phoebe and i like icecreams', additional_kwargs={}, response_metadata={}, id='2064d40d-0677-4c69-89a1-089c846fe439'),\n",
       "  AIMessage(content=\"Hi Phoebe! It's great to meet you! Ice cream is definitely a popular treat that many people enjoy. Do you have a favorite flavor or brand of ice cream?\", additional_kwargs={}, response_metadata={'token_usage': {'completion_tokens': 37, 'prompt_tokens': 24, 'total_tokens': 61, 'completion_time': 0.061000676, 'prompt_time': 0.004824975, 'queue_time': 0.266373137, 'total_time': 0.065825651}, 'model_name': 'llama3-8b-8192', 'system_fingerprint': 'fp_5b339000ab', 'service_tier': 'on_demand', 'finish_reason': 'stop', 'logprobs': None}, id='run--fbe01add-161d-4e79-ac62-10848b54d954-0', usage_metadata={'input_tokens': 24, 'output_tokens': 37, 'total_tokens': 61})]}"
      ]
     },
     "execution_count": 76,
     "metadata": {},
     "output_type": "execute_result"
    }
   ],
   "source": [
    "##create thred\n",
    "##invoke it\n",
    "config={\"configurable\": {\"thread_id\": \"1\"}}\n",
    "graph_builder.invoke({\"messages\":\"hi ,my name is phoebe and i like icecreams\"},config)"
   ]
  },
  {
   "cell_type": "markdown",
   "id": "e7f24153",
   "metadata": {},
   "source": [
    "\n",
    "## Streaming\n",
    "Methods: .stream() and astream()\n",
    "\n",
    "These methods are sync and async methods for streaming back results.\n",
    "Additional parameters in streaming modes for graph state\n",
    "\n",
    "values : This streams the full state of the graph after each node is called.\n",
    "updates : This streams updates to the state of the graph after each node is called."
   ]
  },
  {
   "cell_type": "code",
   "execution_count": 77,
   "id": "2e93f3e4",
   "metadata": {},
   "outputs": [
    {
     "name": "stdout",
     "output_type": "stream",
     "text": [
      "{'SuperBot': {'messages': [AIMessage(content=\"Hi Phoebe! Nice to meet you! Ah, ice cream lover, eh? What's your favorite flavor? Do you have a go-to spot for getting your ice cream fix, or do you like to try new and exciting flavors?\", additional_kwargs={}, response_metadata={'token_usage': {'completion_tokens': 50, 'prompt_tokens': 24, 'total_tokens': 74, 'completion_time': 0.034363117, 'prompt_time': 0.004134615, 'queue_time': 0.266235356, 'total_time': 0.038497732}, 'model_name': 'llama3-8b-8192', 'system_fingerprint': 'fp_0fb809dba3', 'service_tier': 'on_demand', 'finish_reason': 'stop', 'logprobs': None}, id='run--71a0f2eb-73b6-4477-a736-bb6acadcb337-0', usage_metadata={'input_tokens': 24, 'output_tokens': 50, 'total_tokens': 74})]}}\n"
     ]
    }
   ],
   "source": [
    "##using stream_mode='updates' -- u wil only get the current msg displayed,the last msg from ai , ai message mostly\n",
    "##using stream_mode='values' -- u will get all the messages in the thread appending\n",
    "\n",
    "# Create a thread\n",
    "config = {\"configurable\": {\"thread_id\": \"3\"}}\n",
    "\n",
    "for chunk in graph_builder.stream({'messages':\"Hi,My name is phoebe And I like icecreams\"},config,stream_mode=\"updates\"):\n",
    "    print(chunk)"
   ]
  },
  {
   "cell_type": "code",
   "execution_count": 78,
   "id": "761f9507",
   "metadata": {},
   "outputs": [
    {
     "name": "stdout",
     "output_type": "stream",
     "text": [
      "{'messages': [HumanMessage(content='Hi,My name is phoebe And I like icecreams', additional_kwargs={}, response_metadata={}, id='b8bca186-216f-4098-9715-debb8097ff7f'), AIMessage(content=\"Hi Phoebe! Nice to meet you! Ah, ice cream lover, eh? What's your favorite flavor? Do you have a go-to spot for getting your ice cream fix, or do you like to try new and exciting flavors?\", additional_kwargs={}, response_metadata={'token_usage': {'completion_tokens': 50, 'prompt_tokens': 24, 'total_tokens': 74, 'completion_time': 0.034363117, 'prompt_time': 0.004134615, 'queue_time': 0.266235356, 'total_time': 0.038497732}, 'model_name': 'llama3-8b-8192', 'system_fingerprint': 'fp_0fb809dba3', 'service_tier': 'on_demand', 'finish_reason': 'stop', 'logprobs': None}, id='run--71a0f2eb-73b6-4477-a736-bb6acadcb337-0', usage_metadata={'input_tokens': 24, 'output_tokens': 50, 'total_tokens': 74}), HumanMessage(content='Hi,my name is phoebe and i like icecreams', additional_kwargs={}, response_metadata={}, id='abb1ae08-d8c2-4afd-aac0-ff94f7e273c6')]}\n",
      "{'messages': [HumanMessage(content='Hi,My name is phoebe And I like icecreams', additional_kwargs={}, response_metadata={}, id='b8bca186-216f-4098-9715-debb8097ff7f'), AIMessage(content=\"Hi Phoebe! Nice to meet you! Ah, ice cream lover, eh? What's your favorite flavor? Do you have a go-to spot for getting your ice cream fix, or do you like to try new and exciting flavors?\", additional_kwargs={}, response_metadata={'token_usage': {'completion_tokens': 50, 'prompt_tokens': 24, 'total_tokens': 74, 'completion_time': 0.034363117, 'prompt_time': 0.004134615, 'queue_time': 0.266235356, 'total_time': 0.038497732}, 'model_name': 'llama3-8b-8192', 'system_fingerprint': 'fp_0fb809dba3', 'service_tier': 'on_demand', 'finish_reason': 'stop', 'logprobs': None}, id='run--71a0f2eb-73b6-4477-a736-bb6acadcb337-0', usage_metadata={'input_tokens': 24, 'output_tokens': 50, 'total_tokens': 74}), HumanMessage(content='Hi,my name is phoebe and i like icecreams', additional_kwargs={}, response_metadata={}, id='abb1ae08-d8c2-4afd-aac0-ff94f7e273c6'), AIMessage(content=\"Hi Phoebe! Nice to meet you! Ah, ice cream lover, eh? What's your favorite flavor? Do you have a go-to spot for getting your ice cream fix, or do you like to try new and exciting flavors?\", additional_kwargs={}, response_metadata={'token_usage': {'completion_tokens': 50, 'prompt_tokens': 97, 'total_tokens': 147, 'completion_time': 0.034487803, 'prompt_time': 0.011329062, 'queue_time': 0.266282038, 'total_time': 0.045816865}, 'model_name': 'llama3-8b-8192', 'system_fingerprint': 'fp_0fb809dba3', 'service_tier': 'on_demand', 'finish_reason': 'stop', 'logprobs': None}, id='run--85bb14e3-49ba-4d22-a5cd-52f82d47473d-0', usage_metadata={'input_tokens': 97, 'output_tokens': 50, 'total_tokens': 147})]}\n"
     ]
    }
   ],
   "source": [
    "for chunk in graph_builder.stream({\"messages\":\"Hi,my name is phoebe and i like icecreams\"},config,stream_mode=\"values\"):\n",
    "    print(chunk)"
   ]
  },
  {
   "cell_type": "code",
   "execution_count": 79,
   "id": "6264c275",
   "metadata": {},
   "outputs": [
    {
     "name": "stdout",
     "output_type": "stream",
     "text": [
      "{'SuperBot': {'messages': [AIMessage(content=\"Hi Phoebe! Nice to meet you! Ice cream is a great interest to have! What's your favorite flavor of ice cream? Do you have a go-to spot for getting your ice cream fix or do you like to try new places and flavors?\", additional_kwargs={}, response_metadata={'token_usage': {'completion_tokens': 53, 'prompt_tokens': 24, 'total_tokens': 77, 'completion_time': 0.037233593, 'prompt_time': 0.003339246, 'queue_time': 0.266384354, 'total_time': 0.040572839}, 'model_name': 'llama3-8b-8192', 'system_fingerprint': 'fp_0fb809dba3', 'service_tier': 'on_demand', 'finish_reason': 'stop', 'logprobs': None}, id='run--acf27313-6cf2-4c43-958b-5822b168129d-0', usage_metadata={'input_tokens': 24, 'output_tokens': 53, 'total_tokens': 77})]}}\n"
     ]
    }
   ],
   "source": [
    "config = {\"configurable\": {\"thread_id\": \"4\"}}\n",
    "\n",
    "\n",
    "for chunk in graph_builder.stream({'messages':\"Hi,My name is phoebe And I like icecreams\"},config,stream_mode=\"updates\"):\n",
    "    print(chunk)"
   ]
  },
  {
   "cell_type": "code",
   "execution_count": 80,
   "id": "822ef372",
   "metadata": {},
   "outputs": [
    {
     "name": "stdout",
     "output_type": "stream",
     "text": [
      "{'messages': [HumanMessage(content='Hi,My name is phoebe And I like icecreams', additional_kwargs={}, response_metadata={}, id='67b182e1-c59b-4794-9590-f369e5dbf036'), AIMessage(content=\"Hi Phoebe! Nice to meet you! Ice cream is a great interest to have! What's your favorite flavor of ice cream? Do you have a go-to spot for getting your ice cream fix or do you like to try new places and flavors?\", additional_kwargs={}, response_metadata={'token_usage': {'completion_tokens': 53, 'prompt_tokens': 24, 'total_tokens': 77, 'completion_time': 0.037233593, 'prompt_time': 0.003339246, 'queue_time': 0.266384354, 'total_time': 0.040572839}, 'model_name': 'llama3-8b-8192', 'system_fingerprint': 'fp_0fb809dba3', 'service_tier': 'on_demand', 'finish_reason': 'stop', 'logprobs': None}, id='run--acf27313-6cf2-4c43-958b-5822b168129d-0', usage_metadata={'input_tokens': 24, 'output_tokens': 53, 'total_tokens': 77}), HumanMessage(content='I also like dark chocolate', additional_kwargs={}, response_metadata={}, id='ae903854-35ed-41ad-8cac-36d3347016aa')]}\n",
      "{'messages': [HumanMessage(content='Hi,My name is phoebe And I like icecreams', additional_kwargs={}, response_metadata={}, id='67b182e1-c59b-4794-9590-f369e5dbf036'), AIMessage(content=\"Hi Phoebe! Nice to meet you! Ice cream is a great interest to have! What's your favorite flavor of ice cream? Do you have a go-to spot for getting your ice cream fix or do you like to try new places and flavors?\", additional_kwargs={}, response_metadata={'token_usage': {'completion_tokens': 53, 'prompt_tokens': 24, 'total_tokens': 77, 'completion_time': 0.037233593, 'prompt_time': 0.003339246, 'queue_time': 0.266384354, 'total_time': 0.040572839}, 'model_name': 'llama3-8b-8192', 'system_fingerprint': 'fp_0fb809dba3', 'service_tier': 'on_demand', 'finish_reason': 'stop', 'logprobs': None}, id='run--acf27313-6cf2-4c43-958b-5822b168129d-0', usage_metadata={'input_tokens': 24, 'output_tokens': 53, 'total_tokens': 77}), HumanMessage(content='I also like dark chocolate', additional_kwargs={}, response_metadata={}, id='ae903854-35ed-41ad-8cac-36d3347016aa'), AIMessage(content=\"Dark chocolate is a great choice! There's something about the rich, velvety texture and the deep, intense flavor that just makes it irresistible, doesn't it?\\n\\nAs an ice cream lover, have you ever tried pairing dark chocolate with ice cream? It's a match made in heaven! Some people like to add chocolate chips or chocolate chunks to their ice cream, while others prefer a chocolate ice cream with a swirl of dark chocolate sauce. Do you have a favorite way to enjoy dark chocolate and ice cream together?\\n\\nBy the way, what do you like to do besides enjoying ice cream and dark chocolate? Do you have any hobbies or interests that you're passionate about?\", additional_kwargs={}, response_metadata={'token_usage': {'completion_tokens': 136, 'prompt_tokens': 91, 'total_tokens': 227, 'completion_time': 0.094587166, 'prompt_time': 0.010727358, 'queue_time': 0.269033771, 'total_time': 0.105314524}, 'model_name': 'llama3-8b-8192', 'system_fingerprint': 'fp_0fb809dba3', 'service_tier': 'on_demand', 'finish_reason': 'stop', 'logprobs': None}, id='run--3f5c402c-247b-49c6-a9a8-72f0917ae417-0', usage_metadata={'input_tokens': 91, 'output_tokens': 136, 'total_tokens': 227})]}\n"
     ]
    }
   ],
   "source": [
    "for chunk in graph_builder.stream({'messages':\"I also like dark chocolate\"},config,stream_mode=\"values\"):\n",
    "    print(chunk)"
   ]
  },
  {
   "cell_type": "code",
   "execution_count": 81,
   "id": "89ae1ae8",
   "metadata": {},
   "outputs": [
    {
     "name": "stdout",
     "output_type": "stream",
     "text": [
      "{'event': 'on_chain_start', 'data': {'input': {'messages': ['Hi My name is phoebe and I like icecreams']}}, 'name': 'LangGraph', 'tags': [], 'run_id': '9a036641-5e25-452c-aeea-fac322d1f5d1', 'metadata': {'thread_id': '5'}, 'parent_ids': []}\n",
      "{'event': 'on_chain_start', 'data': {'input': {'messages': [HumanMessage(content='Hi My name is phoebe and I like icecreams', additional_kwargs={}, response_metadata={}, id='85d58762-3952-4bb8-98c0-f034cc02aa11')]}}, 'name': 'SuperBot', 'tags': ['graph:step:1'], 'run_id': '515acbc9-e64a-4317-9424-543b0da85f4a', 'metadata': {'thread_id': '5', 'langgraph_step': 1, 'langgraph_node': 'SuperBot', 'langgraph_triggers': ('branch:to:SuperBot',), 'langgraph_path': ('__pregel_pull', 'SuperBot'), 'langgraph_checkpoint_ns': 'SuperBot:33f76d49-1056-a38d-65ac-acf3f2d1003d'}, 'parent_ids': ['9a036641-5e25-452c-aeea-fac322d1f5d1']}\n",
      "{'event': 'on_chat_model_start', 'data': {'input': {'messages': [[HumanMessage(content='Hi My name is phoebe and I like icecreams', additional_kwargs={}, response_metadata={}, id='85d58762-3952-4bb8-98c0-f034cc02aa11')]]}}, 'name': 'ChatGroq', 'tags': ['seq:step:1'], 'run_id': 'fd479c40-d291-49c2-a34e-77452de833df', 'metadata': {'thread_id': '5', 'langgraph_step': 1, 'langgraph_node': 'SuperBot', 'langgraph_triggers': ('branch:to:SuperBot',), 'langgraph_path': ('__pregel_pull', 'SuperBot'), 'langgraph_checkpoint_ns': 'SuperBot:33f76d49-1056-a38d-65ac-acf3f2d1003d', 'checkpoint_ns': 'SuperBot:33f76d49-1056-a38d-65ac-acf3f2d1003d', 'ls_provider': 'groq', 'ls_model_name': 'llama3-8b-8192', 'ls_model_type': 'chat', 'ls_temperature': 0.7}, 'parent_ids': ['9a036641-5e25-452c-aeea-fac322d1f5d1', '515acbc9-e64a-4317-9424-543b0da85f4a']}\n",
      "{'event': 'on_chat_model_stream', 'data': {'chunk': AIMessageChunk(content='', additional_kwargs={}, response_metadata={}, id='run--fd479c40-d291-49c2-a34e-77452de833df')}, 'run_id': 'fd479c40-d291-49c2-a34e-77452de833df', 'name': 'ChatGroq', 'tags': ['seq:step:1'], 'metadata': {'thread_id': '5', 'langgraph_step': 1, 'langgraph_node': 'SuperBot', 'langgraph_triggers': ('branch:to:SuperBot',), 'langgraph_path': ('__pregel_pull', 'SuperBot'), 'langgraph_checkpoint_ns': 'SuperBot:33f76d49-1056-a38d-65ac-acf3f2d1003d', 'checkpoint_ns': 'SuperBot:33f76d49-1056-a38d-65ac-acf3f2d1003d', 'ls_provider': 'groq', 'ls_model_name': 'llama3-8b-8192', 'ls_model_type': 'chat', 'ls_temperature': 0.7}, 'parent_ids': ['9a036641-5e25-452c-aeea-fac322d1f5d1', '515acbc9-e64a-4317-9424-543b0da85f4a']}\n",
      "{'event': 'on_chat_model_stream', 'data': {'chunk': AIMessageChunk(content='Hi', additional_kwargs={}, response_metadata={}, id='run--fd479c40-d291-49c2-a34e-77452de833df')}, 'run_id': 'fd479c40-d291-49c2-a34e-77452de833df', 'name': 'ChatGroq', 'tags': ['seq:step:1'], 'metadata': {'thread_id': '5', 'langgraph_step': 1, 'langgraph_node': 'SuperBot', 'langgraph_triggers': ('branch:to:SuperBot',), 'langgraph_path': ('__pregel_pull', 'SuperBot'), 'langgraph_checkpoint_ns': 'SuperBot:33f76d49-1056-a38d-65ac-acf3f2d1003d', 'checkpoint_ns': 'SuperBot:33f76d49-1056-a38d-65ac-acf3f2d1003d', 'ls_provider': 'groq', 'ls_model_name': 'llama3-8b-8192', 'ls_model_type': 'chat', 'ls_temperature': 0.7}, 'parent_ids': ['9a036641-5e25-452c-aeea-fac322d1f5d1', '515acbc9-e64a-4317-9424-543b0da85f4a']}\n",
      "{'event': 'on_chat_model_stream', 'data': {'chunk': AIMessageChunk(content=' Ph', additional_kwargs={}, response_metadata={}, id='run--fd479c40-d291-49c2-a34e-77452de833df')}, 'run_id': 'fd479c40-d291-49c2-a34e-77452de833df', 'name': 'ChatGroq', 'tags': ['seq:step:1'], 'metadata': {'thread_id': '5', 'langgraph_step': 1, 'langgraph_node': 'SuperBot', 'langgraph_triggers': ('branch:to:SuperBot',), 'langgraph_path': ('__pregel_pull', 'SuperBot'), 'langgraph_checkpoint_ns': 'SuperBot:33f76d49-1056-a38d-65ac-acf3f2d1003d', 'checkpoint_ns': 'SuperBot:33f76d49-1056-a38d-65ac-acf3f2d1003d', 'ls_provider': 'groq', 'ls_model_name': 'llama3-8b-8192', 'ls_model_type': 'chat', 'ls_temperature': 0.7}, 'parent_ids': ['9a036641-5e25-452c-aeea-fac322d1f5d1', '515acbc9-e64a-4317-9424-543b0da85f4a']}\n",
      "{'event': 'on_chat_model_stream', 'data': {'chunk': AIMessageChunk(content='oe', additional_kwargs={}, response_metadata={}, id='run--fd479c40-d291-49c2-a34e-77452de833df')}, 'run_id': 'fd479c40-d291-49c2-a34e-77452de833df', 'name': 'ChatGroq', 'tags': ['seq:step:1'], 'metadata': {'thread_id': '5', 'langgraph_step': 1, 'langgraph_node': 'SuperBot', 'langgraph_triggers': ('branch:to:SuperBot',), 'langgraph_path': ('__pregel_pull', 'SuperBot'), 'langgraph_checkpoint_ns': 'SuperBot:33f76d49-1056-a38d-65ac-acf3f2d1003d', 'checkpoint_ns': 'SuperBot:33f76d49-1056-a38d-65ac-acf3f2d1003d', 'ls_provider': 'groq', 'ls_model_name': 'llama3-8b-8192', 'ls_model_type': 'chat', 'ls_temperature': 0.7}, 'parent_ids': ['9a036641-5e25-452c-aeea-fac322d1f5d1', '515acbc9-e64a-4317-9424-543b0da85f4a']}\n",
      "{'event': 'on_chat_model_stream', 'data': {'chunk': AIMessageChunk(content='be', additional_kwargs={}, response_metadata={}, id='run--fd479c40-d291-49c2-a34e-77452de833df')}, 'run_id': 'fd479c40-d291-49c2-a34e-77452de833df', 'name': 'ChatGroq', 'tags': ['seq:step:1'], 'metadata': {'thread_id': '5', 'langgraph_step': 1, 'langgraph_node': 'SuperBot', 'langgraph_triggers': ('branch:to:SuperBot',), 'langgraph_path': ('__pregel_pull', 'SuperBot'), 'langgraph_checkpoint_ns': 'SuperBot:33f76d49-1056-a38d-65ac-acf3f2d1003d', 'checkpoint_ns': 'SuperBot:33f76d49-1056-a38d-65ac-acf3f2d1003d', 'ls_provider': 'groq', 'ls_model_name': 'llama3-8b-8192', 'ls_model_type': 'chat', 'ls_temperature': 0.7}, 'parent_ids': ['9a036641-5e25-452c-aeea-fac322d1f5d1', '515acbc9-e64a-4317-9424-543b0da85f4a']}\n",
      "{'event': 'on_chat_model_stream', 'data': {'chunk': AIMessageChunk(content='!', additional_kwargs={}, response_metadata={}, id='run--fd479c40-d291-49c2-a34e-77452de833df')}, 'run_id': 'fd479c40-d291-49c2-a34e-77452de833df', 'name': 'ChatGroq', 'tags': ['seq:step:1'], 'metadata': {'thread_id': '5', 'langgraph_step': 1, 'langgraph_node': 'SuperBot', 'langgraph_triggers': ('branch:to:SuperBot',), 'langgraph_path': ('__pregel_pull', 'SuperBot'), 'langgraph_checkpoint_ns': 'SuperBot:33f76d49-1056-a38d-65ac-acf3f2d1003d', 'checkpoint_ns': 'SuperBot:33f76d49-1056-a38d-65ac-acf3f2d1003d', 'ls_provider': 'groq', 'ls_model_name': 'llama3-8b-8192', 'ls_model_type': 'chat', 'ls_temperature': 0.7}, 'parent_ids': ['9a036641-5e25-452c-aeea-fac322d1f5d1', '515acbc9-e64a-4317-9424-543b0da85f4a']}\n",
      "{'event': 'on_chat_model_stream', 'data': {'chunk': AIMessageChunk(content=' It', additional_kwargs={}, response_metadata={}, id='run--fd479c40-d291-49c2-a34e-77452de833df')}, 'run_id': 'fd479c40-d291-49c2-a34e-77452de833df', 'name': 'ChatGroq', 'tags': ['seq:step:1'], 'metadata': {'thread_id': '5', 'langgraph_step': 1, 'langgraph_node': 'SuperBot', 'langgraph_triggers': ('branch:to:SuperBot',), 'langgraph_path': ('__pregel_pull', 'SuperBot'), 'langgraph_checkpoint_ns': 'SuperBot:33f76d49-1056-a38d-65ac-acf3f2d1003d', 'checkpoint_ns': 'SuperBot:33f76d49-1056-a38d-65ac-acf3f2d1003d', 'ls_provider': 'groq', 'ls_model_name': 'llama3-8b-8192', 'ls_model_type': 'chat', 'ls_temperature': 0.7}, 'parent_ids': ['9a036641-5e25-452c-aeea-fac322d1f5d1', '515acbc9-e64a-4317-9424-543b0da85f4a']}\n",
      "{'event': 'on_chat_model_stream', 'data': {'chunk': AIMessageChunk(content=\"'s\", additional_kwargs={}, response_metadata={}, id='run--fd479c40-d291-49c2-a34e-77452de833df')}, 'run_id': 'fd479c40-d291-49c2-a34e-77452de833df', 'name': 'ChatGroq', 'tags': ['seq:step:1'], 'metadata': {'thread_id': '5', 'langgraph_step': 1, 'langgraph_node': 'SuperBot', 'langgraph_triggers': ('branch:to:SuperBot',), 'langgraph_path': ('__pregel_pull', 'SuperBot'), 'langgraph_checkpoint_ns': 'SuperBot:33f76d49-1056-a38d-65ac-acf3f2d1003d', 'checkpoint_ns': 'SuperBot:33f76d49-1056-a38d-65ac-acf3f2d1003d', 'ls_provider': 'groq', 'ls_model_name': 'llama3-8b-8192', 'ls_model_type': 'chat', 'ls_temperature': 0.7}, 'parent_ids': ['9a036641-5e25-452c-aeea-fac322d1f5d1', '515acbc9-e64a-4317-9424-543b0da85f4a']}\n",
      "{'event': 'on_chat_model_stream', 'data': {'chunk': AIMessageChunk(content=' great', additional_kwargs={}, response_metadata={}, id='run--fd479c40-d291-49c2-a34e-77452de833df')}, 'run_id': 'fd479c40-d291-49c2-a34e-77452de833df', 'name': 'ChatGroq', 'tags': ['seq:step:1'], 'metadata': {'thread_id': '5', 'langgraph_step': 1, 'langgraph_node': 'SuperBot', 'langgraph_triggers': ('branch:to:SuperBot',), 'langgraph_path': ('__pregel_pull', 'SuperBot'), 'langgraph_checkpoint_ns': 'SuperBot:33f76d49-1056-a38d-65ac-acf3f2d1003d', 'checkpoint_ns': 'SuperBot:33f76d49-1056-a38d-65ac-acf3f2d1003d', 'ls_provider': 'groq', 'ls_model_name': 'llama3-8b-8192', 'ls_model_type': 'chat', 'ls_temperature': 0.7}, 'parent_ids': ['9a036641-5e25-452c-aeea-fac322d1f5d1', '515acbc9-e64a-4317-9424-543b0da85f4a']}\n",
      "{'event': 'on_chat_model_stream', 'data': {'chunk': AIMessageChunk(content=' to', additional_kwargs={}, response_metadata={}, id='run--fd479c40-d291-49c2-a34e-77452de833df')}, 'run_id': 'fd479c40-d291-49c2-a34e-77452de833df', 'name': 'ChatGroq', 'tags': ['seq:step:1'], 'metadata': {'thread_id': '5', 'langgraph_step': 1, 'langgraph_node': 'SuperBot', 'langgraph_triggers': ('branch:to:SuperBot',), 'langgraph_path': ('__pregel_pull', 'SuperBot'), 'langgraph_checkpoint_ns': 'SuperBot:33f76d49-1056-a38d-65ac-acf3f2d1003d', 'checkpoint_ns': 'SuperBot:33f76d49-1056-a38d-65ac-acf3f2d1003d', 'ls_provider': 'groq', 'ls_model_name': 'llama3-8b-8192', 'ls_model_type': 'chat', 'ls_temperature': 0.7}, 'parent_ids': ['9a036641-5e25-452c-aeea-fac322d1f5d1', '515acbc9-e64a-4317-9424-543b0da85f4a']}\n",
      "{'event': 'on_chat_model_stream', 'data': {'chunk': AIMessageChunk(content=' meet', additional_kwargs={}, response_metadata={}, id='run--fd479c40-d291-49c2-a34e-77452de833df')}, 'run_id': 'fd479c40-d291-49c2-a34e-77452de833df', 'name': 'ChatGroq', 'tags': ['seq:step:1'], 'metadata': {'thread_id': '5', 'langgraph_step': 1, 'langgraph_node': 'SuperBot', 'langgraph_triggers': ('branch:to:SuperBot',), 'langgraph_path': ('__pregel_pull', 'SuperBot'), 'langgraph_checkpoint_ns': 'SuperBot:33f76d49-1056-a38d-65ac-acf3f2d1003d', 'checkpoint_ns': 'SuperBot:33f76d49-1056-a38d-65ac-acf3f2d1003d', 'ls_provider': 'groq', 'ls_model_name': 'llama3-8b-8192', 'ls_model_type': 'chat', 'ls_temperature': 0.7}, 'parent_ids': ['9a036641-5e25-452c-aeea-fac322d1f5d1', '515acbc9-e64a-4317-9424-543b0da85f4a']}\n",
      "{'event': 'on_chat_model_stream', 'data': {'chunk': AIMessageChunk(content=' you', additional_kwargs={}, response_metadata={}, id='run--fd479c40-d291-49c2-a34e-77452de833df')}, 'run_id': 'fd479c40-d291-49c2-a34e-77452de833df', 'name': 'ChatGroq', 'tags': ['seq:step:1'], 'metadata': {'thread_id': '5', 'langgraph_step': 1, 'langgraph_node': 'SuperBot', 'langgraph_triggers': ('branch:to:SuperBot',), 'langgraph_path': ('__pregel_pull', 'SuperBot'), 'langgraph_checkpoint_ns': 'SuperBot:33f76d49-1056-a38d-65ac-acf3f2d1003d', 'checkpoint_ns': 'SuperBot:33f76d49-1056-a38d-65ac-acf3f2d1003d', 'ls_provider': 'groq', 'ls_model_name': 'llama3-8b-8192', 'ls_model_type': 'chat', 'ls_temperature': 0.7}, 'parent_ids': ['9a036641-5e25-452c-aeea-fac322d1f5d1', '515acbc9-e64a-4317-9424-543b0da85f4a']}\n",
      "{'event': 'on_chat_model_stream', 'data': {'chunk': AIMessageChunk(content='!', additional_kwargs={}, response_metadata={}, id='run--fd479c40-d291-49c2-a34e-77452de833df')}, 'run_id': 'fd479c40-d291-49c2-a34e-77452de833df', 'name': 'ChatGroq', 'tags': ['seq:step:1'], 'metadata': {'thread_id': '5', 'langgraph_step': 1, 'langgraph_node': 'SuperBot', 'langgraph_triggers': ('branch:to:SuperBot',), 'langgraph_path': ('__pregel_pull', 'SuperBot'), 'langgraph_checkpoint_ns': 'SuperBot:33f76d49-1056-a38d-65ac-acf3f2d1003d', 'checkpoint_ns': 'SuperBot:33f76d49-1056-a38d-65ac-acf3f2d1003d', 'ls_provider': 'groq', 'ls_model_name': 'llama3-8b-8192', 'ls_model_type': 'chat', 'ls_temperature': 0.7}, 'parent_ids': ['9a036641-5e25-452c-aeea-fac322d1f5d1', '515acbc9-e64a-4317-9424-543b0da85f4a']}\n",
      "{'event': 'on_chat_model_stream', 'data': {'chunk': AIMessageChunk(content=' Ice', additional_kwargs={}, response_metadata={}, id='run--fd479c40-d291-49c2-a34e-77452de833df')}, 'run_id': 'fd479c40-d291-49c2-a34e-77452de833df', 'name': 'ChatGroq', 'tags': ['seq:step:1'], 'metadata': {'thread_id': '5', 'langgraph_step': 1, 'langgraph_node': 'SuperBot', 'langgraph_triggers': ('branch:to:SuperBot',), 'langgraph_path': ('__pregel_pull', 'SuperBot'), 'langgraph_checkpoint_ns': 'SuperBot:33f76d49-1056-a38d-65ac-acf3f2d1003d', 'checkpoint_ns': 'SuperBot:33f76d49-1056-a38d-65ac-acf3f2d1003d', 'ls_provider': 'groq', 'ls_model_name': 'llama3-8b-8192', 'ls_model_type': 'chat', 'ls_temperature': 0.7}, 'parent_ids': ['9a036641-5e25-452c-aeea-fac322d1f5d1', '515acbc9-e64a-4317-9424-543b0da85f4a']}\n",
      "{'event': 'on_chat_model_stream', 'data': {'chunk': AIMessageChunk(content=' cream', additional_kwargs={}, response_metadata={}, id='run--fd479c40-d291-49c2-a34e-77452de833df')}, 'run_id': 'fd479c40-d291-49c2-a34e-77452de833df', 'name': 'ChatGroq', 'tags': ['seq:step:1'], 'metadata': {'thread_id': '5', 'langgraph_step': 1, 'langgraph_node': 'SuperBot', 'langgraph_triggers': ('branch:to:SuperBot',), 'langgraph_path': ('__pregel_pull', 'SuperBot'), 'langgraph_checkpoint_ns': 'SuperBot:33f76d49-1056-a38d-65ac-acf3f2d1003d', 'checkpoint_ns': 'SuperBot:33f76d49-1056-a38d-65ac-acf3f2d1003d', 'ls_provider': 'groq', 'ls_model_name': 'llama3-8b-8192', 'ls_model_type': 'chat', 'ls_temperature': 0.7}, 'parent_ids': ['9a036641-5e25-452c-aeea-fac322d1f5d1', '515acbc9-e64a-4317-9424-543b0da85f4a']}\n",
      "{'event': 'on_chat_model_stream', 'data': {'chunk': AIMessageChunk(content=' is', additional_kwargs={}, response_metadata={}, id='run--fd479c40-d291-49c2-a34e-77452de833df')}, 'run_id': 'fd479c40-d291-49c2-a34e-77452de833df', 'name': 'ChatGroq', 'tags': ['seq:step:1'], 'metadata': {'thread_id': '5', 'langgraph_step': 1, 'langgraph_node': 'SuperBot', 'langgraph_triggers': ('branch:to:SuperBot',), 'langgraph_path': ('__pregel_pull', 'SuperBot'), 'langgraph_checkpoint_ns': 'SuperBot:33f76d49-1056-a38d-65ac-acf3f2d1003d', 'checkpoint_ns': 'SuperBot:33f76d49-1056-a38d-65ac-acf3f2d1003d', 'ls_provider': 'groq', 'ls_model_name': 'llama3-8b-8192', 'ls_model_type': 'chat', 'ls_temperature': 0.7}, 'parent_ids': ['9a036641-5e25-452c-aeea-fac322d1f5d1', '515acbc9-e64a-4317-9424-543b0da85f4a']}\n",
      "{'event': 'on_chat_model_stream', 'data': {'chunk': AIMessageChunk(content=' a', additional_kwargs={}, response_metadata={}, id='run--fd479c40-d291-49c2-a34e-77452de833df')}, 'run_id': 'fd479c40-d291-49c2-a34e-77452de833df', 'name': 'ChatGroq', 'tags': ['seq:step:1'], 'metadata': {'thread_id': '5', 'langgraph_step': 1, 'langgraph_node': 'SuperBot', 'langgraph_triggers': ('branch:to:SuperBot',), 'langgraph_path': ('__pregel_pull', 'SuperBot'), 'langgraph_checkpoint_ns': 'SuperBot:33f76d49-1056-a38d-65ac-acf3f2d1003d', 'checkpoint_ns': 'SuperBot:33f76d49-1056-a38d-65ac-acf3f2d1003d', 'ls_provider': 'groq', 'ls_model_name': 'llama3-8b-8192', 'ls_model_type': 'chat', 'ls_temperature': 0.7}, 'parent_ids': ['9a036641-5e25-452c-aeea-fac322d1f5d1', '515acbc9-e64a-4317-9424-543b0da85f4a']}\n",
      "{'event': 'on_chat_model_stream', 'data': {'chunk': AIMessageChunk(content=' wonderful', additional_kwargs={}, response_metadata={}, id='run--fd479c40-d291-49c2-a34e-77452de833df')}, 'run_id': 'fd479c40-d291-49c2-a34e-77452de833df', 'name': 'ChatGroq', 'tags': ['seq:step:1'], 'metadata': {'thread_id': '5', 'langgraph_step': 1, 'langgraph_node': 'SuperBot', 'langgraph_triggers': ('branch:to:SuperBot',), 'langgraph_path': ('__pregel_pull', 'SuperBot'), 'langgraph_checkpoint_ns': 'SuperBot:33f76d49-1056-a38d-65ac-acf3f2d1003d', 'checkpoint_ns': 'SuperBot:33f76d49-1056-a38d-65ac-acf3f2d1003d', 'ls_provider': 'groq', 'ls_model_name': 'llama3-8b-8192', 'ls_model_type': 'chat', 'ls_temperature': 0.7}, 'parent_ids': ['9a036641-5e25-452c-aeea-fac322d1f5d1', '515acbc9-e64a-4317-9424-543b0da85f4a']}\n",
      "{'event': 'on_chat_model_stream', 'data': {'chunk': AIMessageChunk(content=' thing', additional_kwargs={}, response_metadata={}, id='run--fd479c40-d291-49c2-a34e-77452de833df')}, 'run_id': 'fd479c40-d291-49c2-a34e-77452de833df', 'name': 'ChatGroq', 'tags': ['seq:step:1'], 'metadata': {'thread_id': '5', 'langgraph_step': 1, 'langgraph_node': 'SuperBot', 'langgraph_triggers': ('branch:to:SuperBot',), 'langgraph_path': ('__pregel_pull', 'SuperBot'), 'langgraph_checkpoint_ns': 'SuperBot:33f76d49-1056-a38d-65ac-acf3f2d1003d', 'checkpoint_ns': 'SuperBot:33f76d49-1056-a38d-65ac-acf3f2d1003d', 'ls_provider': 'groq', 'ls_model_name': 'llama3-8b-8192', 'ls_model_type': 'chat', 'ls_temperature': 0.7}, 'parent_ids': ['9a036641-5e25-452c-aeea-fac322d1f5d1', '515acbc9-e64a-4317-9424-543b0da85f4a']}\n",
      "{'event': 'on_chat_model_stream', 'data': {'chunk': AIMessageChunk(content=',', additional_kwargs={}, response_metadata={}, id='run--fd479c40-d291-49c2-a34e-77452de833df')}, 'run_id': 'fd479c40-d291-49c2-a34e-77452de833df', 'name': 'ChatGroq', 'tags': ['seq:step:1'], 'metadata': {'thread_id': '5', 'langgraph_step': 1, 'langgraph_node': 'SuperBot', 'langgraph_triggers': ('branch:to:SuperBot',), 'langgraph_path': ('__pregel_pull', 'SuperBot'), 'langgraph_checkpoint_ns': 'SuperBot:33f76d49-1056-a38d-65ac-acf3f2d1003d', 'checkpoint_ns': 'SuperBot:33f76d49-1056-a38d-65ac-acf3f2d1003d', 'ls_provider': 'groq', 'ls_model_name': 'llama3-8b-8192', 'ls_model_type': 'chat', 'ls_temperature': 0.7}, 'parent_ids': ['9a036641-5e25-452c-aeea-fac322d1f5d1', '515acbc9-e64a-4317-9424-543b0da85f4a']}\n",
      "{'event': 'on_chat_model_stream', 'data': {'chunk': AIMessageChunk(content=' isn', additional_kwargs={}, response_metadata={}, id='run--fd479c40-d291-49c2-a34e-77452de833df')}, 'run_id': 'fd479c40-d291-49c2-a34e-77452de833df', 'name': 'ChatGroq', 'tags': ['seq:step:1'], 'metadata': {'thread_id': '5', 'langgraph_step': 1, 'langgraph_node': 'SuperBot', 'langgraph_triggers': ('branch:to:SuperBot',), 'langgraph_path': ('__pregel_pull', 'SuperBot'), 'langgraph_checkpoint_ns': 'SuperBot:33f76d49-1056-a38d-65ac-acf3f2d1003d', 'checkpoint_ns': 'SuperBot:33f76d49-1056-a38d-65ac-acf3f2d1003d', 'ls_provider': 'groq', 'ls_model_name': 'llama3-8b-8192', 'ls_model_type': 'chat', 'ls_temperature': 0.7}, 'parent_ids': ['9a036641-5e25-452c-aeea-fac322d1f5d1', '515acbc9-e64a-4317-9424-543b0da85f4a']}\n",
      "{'event': 'on_chat_model_stream', 'data': {'chunk': AIMessageChunk(content=\"'t\", additional_kwargs={}, response_metadata={}, id='run--fd479c40-d291-49c2-a34e-77452de833df')}, 'run_id': 'fd479c40-d291-49c2-a34e-77452de833df', 'name': 'ChatGroq', 'tags': ['seq:step:1'], 'metadata': {'thread_id': '5', 'langgraph_step': 1, 'langgraph_node': 'SuperBot', 'langgraph_triggers': ('branch:to:SuperBot',), 'langgraph_path': ('__pregel_pull', 'SuperBot'), 'langgraph_checkpoint_ns': 'SuperBot:33f76d49-1056-a38d-65ac-acf3f2d1003d', 'checkpoint_ns': 'SuperBot:33f76d49-1056-a38d-65ac-acf3f2d1003d', 'ls_provider': 'groq', 'ls_model_name': 'llama3-8b-8192', 'ls_model_type': 'chat', 'ls_temperature': 0.7}, 'parent_ids': ['9a036641-5e25-452c-aeea-fac322d1f5d1', '515acbc9-e64a-4317-9424-543b0da85f4a']}\n",
      "{'event': 'on_chat_model_stream', 'data': {'chunk': AIMessageChunk(content=' it', additional_kwargs={}, response_metadata={}, id='run--fd479c40-d291-49c2-a34e-77452de833df')}, 'run_id': 'fd479c40-d291-49c2-a34e-77452de833df', 'name': 'ChatGroq', 'tags': ['seq:step:1'], 'metadata': {'thread_id': '5', 'langgraph_step': 1, 'langgraph_node': 'SuperBot', 'langgraph_triggers': ('branch:to:SuperBot',), 'langgraph_path': ('__pregel_pull', 'SuperBot'), 'langgraph_checkpoint_ns': 'SuperBot:33f76d49-1056-a38d-65ac-acf3f2d1003d', 'checkpoint_ns': 'SuperBot:33f76d49-1056-a38d-65ac-acf3f2d1003d', 'ls_provider': 'groq', 'ls_model_name': 'llama3-8b-8192', 'ls_model_type': 'chat', 'ls_temperature': 0.7}, 'parent_ids': ['9a036641-5e25-452c-aeea-fac322d1f5d1', '515acbc9-e64a-4317-9424-543b0da85f4a']}\n",
      "{'event': 'on_chat_model_stream', 'data': {'chunk': AIMessageChunk(content='?', additional_kwargs={}, response_metadata={}, id='run--fd479c40-d291-49c2-a34e-77452de833df')}, 'run_id': 'fd479c40-d291-49c2-a34e-77452de833df', 'name': 'ChatGroq', 'tags': ['seq:step:1'], 'metadata': {'thread_id': '5', 'langgraph_step': 1, 'langgraph_node': 'SuperBot', 'langgraph_triggers': ('branch:to:SuperBot',), 'langgraph_path': ('__pregel_pull', 'SuperBot'), 'langgraph_checkpoint_ns': 'SuperBot:33f76d49-1056-a38d-65ac-acf3f2d1003d', 'checkpoint_ns': 'SuperBot:33f76d49-1056-a38d-65ac-acf3f2d1003d', 'ls_provider': 'groq', 'ls_model_name': 'llama3-8b-8192', 'ls_model_type': 'chat', 'ls_temperature': 0.7}, 'parent_ids': ['9a036641-5e25-452c-aeea-fac322d1f5d1', '515acbc9-e64a-4317-9424-543b0da85f4a']}\n",
      "{'event': 'on_chat_model_stream', 'data': {'chunk': AIMessageChunk(content=' What', additional_kwargs={}, response_metadata={}, id='run--fd479c40-d291-49c2-a34e-77452de833df')}, 'run_id': 'fd479c40-d291-49c2-a34e-77452de833df', 'name': 'ChatGroq', 'tags': ['seq:step:1'], 'metadata': {'thread_id': '5', 'langgraph_step': 1, 'langgraph_node': 'SuperBot', 'langgraph_triggers': ('branch:to:SuperBot',), 'langgraph_path': ('__pregel_pull', 'SuperBot'), 'langgraph_checkpoint_ns': 'SuperBot:33f76d49-1056-a38d-65ac-acf3f2d1003d', 'checkpoint_ns': 'SuperBot:33f76d49-1056-a38d-65ac-acf3f2d1003d', 'ls_provider': 'groq', 'ls_model_name': 'llama3-8b-8192', 'ls_model_type': 'chat', 'ls_temperature': 0.7}, 'parent_ids': ['9a036641-5e25-452c-aeea-fac322d1f5d1', '515acbc9-e64a-4317-9424-543b0da85f4a']}\n",
      "{'event': 'on_chat_model_stream', 'data': {'chunk': AIMessageChunk(content=\"'s\", additional_kwargs={}, response_metadata={}, id='run--fd479c40-d291-49c2-a34e-77452de833df')}, 'run_id': 'fd479c40-d291-49c2-a34e-77452de833df', 'name': 'ChatGroq', 'tags': ['seq:step:1'], 'metadata': {'thread_id': '5', 'langgraph_step': 1, 'langgraph_node': 'SuperBot', 'langgraph_triggers': ('branch:to:SuperBot',), 'langgraph_path': ('__pregel_pull', 'SuperBot'), 'langgraph_checkpoint_ns': 'SuperBot:33f76d49-1056-a38d-65ac-acf3f2d1003d', 'checkpoint_ns': 'SuperBot:33f76d49-1056-a38d-65ac-acf3f2d1003d', 'ls_provider': 'groq', 'ls_model_name': 'llama3-8b-8192', 'ls_model_type': 'chat', 'ls_temperature': 0.7}, 'parent_ids': ['9a036641-5e25-452c-aeea-fac322d1f5d1', '515acbc9-e64a-4317-9424-543b0da85f4a']}\n",
      "{'event': 'on_chat_model_stream', 'data': {'chunk': AIMessageChunk(content=' your', additional_kwargs={}, response_metadata={}, id='run--fd479c40-d291-49c2-a34e-77452de833df')}, 'run_id': 'fd479c40-d291-49c2-a34e-77452de833df', 'name': 'ChatGroq', 'tags': ['seq:step:1'], 'metadata': {'thread_id': '5', 'langgraph_step': 1, 'langgraph_node': 'SuperBot', 'langgraph_triggers': ('branch:to:SuperBot',), 'langgraph_path': ('__pregel_pull', 'SuperBot'), 'langgraph_checkpoint_ns': 'SuperBot:33f76d49-1056-a38d-65ac-acf3f2d1003d', 'checkpoint_ns': 'SuperBot:33f76d49-1056-a38d-65ac-acf3f2d1003d', 'ls_provider': 'groq', 'ls_model_name': 'llama3-8b-8192', 'ls_model_type': 'chat', 'ls_temperature': 0.7}, 'parent_ids': ['9a036641-5e25-452c-aeea-fac322d1f5d1', '515acbc9-e64a-4317-9424-543b0da85f4a']}\n",
      "{'event': 'on_chat_model_stream', 'data': {'chunk': AIMessageChunk(content=' favorite', additional_kwargs={}, response_metadata={}, id='run--fd479c40-d291-49c2-a34e-77452de833df')}, 'run_id': 'fd479c40-d291-49c2-a34e-77452de833df', 'name': 'ChatGroq', 'tags': ['seq:step:1'], 'metadata': {'thread_id': '5', 'langgraph_step': 1, 'langgraph_node': 'SuperBot', 'langgraph_triggers': ('branch:to:SuperBot',), 'langgraph_path': ('__pregel_pull', 'SuperBot'), 'langgraph_checkpoint_ns': 'SuperBot:33f76d49-1056-a38d-65ac-acf3f2d1003d', 'checkpoint_ns': 'SuperBot:33f76d49-1056-a38d-65ac-acf3f2d1003d', 'ls_provider': 'groq', 'ls_model_name': 'llama3-8b-8192', 'ls_model_type': 'chat', 'ls_temperature': 0.7}, 'parent_ids': ['9a036641-5e25-452c-aeea-fac322d1f5d1', '515acbc9-e64a-4317-9424-543b0da85f4a']}\n",
      "{'event': 'on_chat_model_stream', 'data': {'chunk': AIMessageChunk(content=' flavor', additional_kwargs={}, response_metadata={}, id='run--fd479c40-d291-49c2-a34e-77452de833df')}, 'run_id': 'fd479c40-d291-49c2-a34e-77452de833df', 'name': 'ChatGroq', 'tags': ['seq:step:1'], 'metadata': {'thread_id': '5', 'langgraph_step': 1, 'langgraph_node': 'SuperBot', 'langgraph_triggers': ('branch:to:SuperBot',), 'langgraph_path': ('__pregel_pull', 'SuperBot'), 'langgraph_checkpoint_ns': 'SuperBot:33f76d49-1056-a38d-65ac-acf3f2d1003d', 'checkpoint_ns': 'SuperBot:33f76d49-1056-a38d-65ac-acf3f2d1003d', 'ls_provider': 'groq', 'ls_model_name': 'llama3-8b-8192', 'ls_model_type': 'chat', 'ls_temperature': 0.7}, 'parent_ids': ['9a036641-5e25-452c-aeea-fac322d1f5d1', '515acbc9-e64a-4317-9424-543b0da85f4a']}\n",
      "{'event': 'on_chat_model_stream', 'data': {'chunk': AIMessageChunk(content='?', additional_kwargs={}, response_metadata={}, id='run--fd479c40-d291-49c2-a34e-77452de833df')}, 'run_id': 'fd479c40-d291-49c2-a34e-77452de833df', 'name': 'ChatGroq', 'tags': ['seq:step:1'], 'metadata': {'thread_id': '5', 'langgraph_step': 1, 'langgraph_node': 'SuperBot', 'langgraph_triggers': ('branch:to:SuperBot',), 'langgraph_path': ('__pregel_pull', 'SuperBot'), 'langgraph_checkpoint_ns': 'SuperBot:33f76d49-1056-a38d-65ac-acf3f2d1003d', 'checkpoint_ns': 'SuperBot:33f76d49-1056-a38d-65ac-acf3f2d1003d', 'ls_provider': 'groq', 'ls_model_name': 'llama3-8b-8192', 'ls_model_type': 'chat', 'ls_temperature': 0.7}, 'parent_ids': ['9a036641-5e25-452c-aeea-fac322d1f5d1', '515acbc9-e64a-4317-9424-543b0da85f4a']}\n",
      "{'event': 'on_chat_model_stream', 'data': {'chunk': AIMessageChunk(content='', additional_kwargs={}, response_metadata={'finish_reason': 'stop', 'model_name': 'llama3-8b-8192', 'system_fingerprint': 'fp_0fb809dba3', 'service_tier': 'on_demand'}, id='run--fd479c40-d291-49c2-a34e-77452de833df', usage_metadata={'input_tokens': 23, 'output_tokens': 30, 'total_tokens': 53})}, 'run_id': 'fd479c40-d291-49c2-a34e-77452de833df', 'name': 'ChatGroq', 'tags': ['seq:step:1'], 'metadata': {'thread_id': '5', 'langgraph_step': 1, 'langgraph_node': 'SuperBot', 'langgraph_triggers': ('branch:to:SuperBot',), 'langgraph_path': ('__pregel_pull', 'SuperBot'), 'langgraph_checkpoint_ns': 'SuperBot:33f76d49-1056-a38d-65ac-acf3f2d1003d', 'checkpoint_ns': 'SuperBot:33f76d49-1056-a38d-65ac-acf3f2d1003d', 'ls_provider': 'groq', 'ls_model_name': 'llama3-8b-8192', 'ls_model_type': 'chat', 'ls_temperature': 0.7}, 'parent_ids': ['9a036641-5e25-452c-aeea-fac322d1f5d1', '515acbc9-e64a-4317-9424-543b0da85f4a']}\n",
      "{'event': 'on_chat_model_end', 'data': {'output': AIMessage(content=\"Hi Phoebe! It's great to meet you! Ice cream is a wonderful thing, isn't it? What's your favorite flavor?\", additional_kwargs={}, response_metadata={'finish_reason': 'stop', 'model_name': 'llama3-8b-8192', 'system_fingerprint': 'fp_0fb809dba3', 'service_tier': 'on_demand'}, id='run--fd479c40-d291-49c2-a34e-77452de833df', usage_metadata={'input_tokens': 23, 'output_tokens': 30, 'total_tokens': 53}), 'input': {'messages': [[HumanMessage(content='Hi My name is phoebe and I like icecreams', additional_kwargs={}, response_metadata={}, id='85d58762-3952-4bb8-98c0-f034cc02aa11')]]}}, 'run_id': 'fd479c40-d291-49c2-a34e-77452de833df', 'name': 'ChatGroq', 'tags': ['seq:step:1'], 'metadata': {'thread_id': '5', 'langgraph_step': 1, 'langgraph_node': 'SuperBot', 'langgraph_triggers': ('branch:to:SuperBot',), 'langgraph_path': ('__pregel_pull', 'SuperBot'), 'langgraph_checkpoint_ns': 'SuperBot:33f76d49-1056-a38d-65ac-acf3f2d1003d', 'checkpoint_ns': 'SuperBot:33f76d49-1056-a38d-65ac-acf3f2d1003d', 'ls_provider': 'groq', 'ls_model_name': 'llama3-8b-8192', 'ls_model_type': 'chat', 'ls_temperature': 0.7}, 'parent_ids': ['9a036641-5e25-452c-aeea-fac322d1f5d1', '515acbc9-e64a-4317-9424-543b0da85f4a']}\n",
      "{'event': 'on_chain_stream', 'run_id': '515acbc9-e64a-4317-9424-543b0da85f4a', 'name': 'SuperBot', 'tags': ['graph:step:1'], 'metadata': {'thread_id': '5', 'langgraph_step': 1, 'langgraph_node': 'SuperBot', 'langgraph_triggers': ('branch:to:SuperBot',), 'langgraph_path': ('__pregel_pull', 'SuperBot'), 'langgraph_checkpoint_ns': 'SuperBot:33f76d49-1056-a38d-65ac-acf3f2d1003d'}, 'data': {'chunk': {'messages': [AIMessage(content=\"Hi Phoebe! It's great to meet you! Ice cream is a wonderful thing, isn't it? What's your favorite flavor?\", additional_kwargs={}, response_metadata={'finish_reason': 'stop', 'model_name': 'llama3-8b-8192', 'system_fingerprint': 'fp_0fb809dba3', 'service_tier': 'on_demand'}, id='run--fd479c40-d291-49c2-a34e-77452de833df', usage_metadata={'input_tokens': 23, 'output_tokens': 30, 'total_tokens': 53})]}}, 'parent_ids': ['9a036641-5e25-452c-aeea-fac322d1f5d1']}\n",
      "{'event': 'on_chain_end', 'data': {'output': {'messages': [AIMessage(content=\"Hi Phoebe! It's great to meet you! Ice cream is a wonderful thing, isn't it? What's your favorite flavor?\", additional_kwargs={}, response_metadata={'finish_reason': 'stop', 'model_name': 'llama3-8b-8192', 'system_fingerprint': 'fp_0fb809dba3', 'service_tier': 'on_demand'}, id='run--fd479c40-d291-49c2-a34e-77452de833df', usage_metadata={'input_tokens': 23, 'output_tokens': 30, 'total_tokens': 53})]}, 'input': {'messages': [HumanMessage(content='Hi My name is phoebe and I like icecreams', additional_kwargs={}, response_metadata={}, id='85d58762-3952-4bb8-98c0-f034cc02aa11')]}}, 'run_id': '515acbc9-e64a-4317-9424-543b0da85f4a', 'name': 'SuperBot', 'tags': ['graph:step:1'], 'metadata': {'thread_id': '5', 'langgraph_step': 1, 'langgraph_node': 'SuperBot', 'langgraph_triggers': ('branch:to:SuperBot',), 'langgraph_path': ('__pregel_pull', 'SuperBot'), 'langgraph_checkpoint_ns': 'SuperBot:33f76d49-1056-a38d-65ac-acf3f2d1003d'}, 'parent_ids': ['9a036641-5e25-452c-aeea-fac322d1f5d1']}\n",
      "{'event': 'on_chain_stream', 'run_id': '9a036641-5e25-452c-aeea-fac322d1f5d1', 'name': 'LangGraph', 'tags': [], 'metadata': {'thread_id': '5'}, 'data': {'chunk': {'SuperBot': {'messages': [AIMessage(content=\"Hi Phoebe! It's great to meet you! Ice cream is a wonderful thing, isn't it? What's your favorite flavor?\", additional_kwargs={}, response_metadata={'finish_reason': 'stop', 'model_name': 'llama3-8b-8192', 'system_fingerprint': 'fp_0fb809dba3', 'service_tier': 'on_demand'}, id='run--fd479c40-d291-49c2-a34e-77452de833df', usage_metadata={'input_tokens': 23, 'output_tokens': 30, 'total_tokens': 53})]}}}, 'parent_ids': []}\n",
      "{'event': 'on_chain_end', 'data': {'output': {'messages': [HumanMessage(content='Hi My name is phoebe and I like icecreams', additional_kwargs={}, response_metadata={}, id='85d58762-3952-4bb8-98c0-f034cc02aa11'), AIMessage(content=\"Hi Phoebe! It's great to meet you! Ice cream is a wonderful thing, isn't it? What's your favorite flavor?\", additional_kwargs={}, response_metadata={'finish_reason': 'stop', 'model_name': 'llama3-8b-8192', 'system_fingerprint': 'fp_0fb809dba3', 'service_tier': 'on_demand'}, id='run--fd479c40-d291-49c2-a34e-77452de833df', usage_metadata={'input_tokens': 23, 'output_tokens': 30, 'total_tokens': 53})]}}, 'run_id': '9a036641-5e25-452c-aeea-fac322d1f5d1', 'name': 'LangGraph', 'tags': [], 'metadata': {'thread_id': '5'}, 'parent_ids': []}\n"
     ]
    }
   ],
   "source": [
    "##event for more detailed information using async\n",
    "\n",
    "config = {\"configurable\": {\"thread_id\": \"5\"}}\n",
    "\n",
    "async for event in graph_builder.astream_events({\"messages\":[\"Hi My name is phoebe and I like icecreams\"]},config,version=\"v2\"):\n",
    "    print(event)"
   ]
  },
  {
   "cell_type": "code",
   "execution_count": null,
   "id": "10dfc15e",
   "metadata": {},
   "outputs": [],
   "source": []
  }
 ],
 "metadata": {
  "kernelspec": {
   "display_name": ".venv",
   "language": "python",
   "name": "python3"
  },
  "language_info": {
   "codemirror_mode": {
    "name": "ipython",
    "version": 3
   },
   "file_extension": ".py",
   "mimetype": "text/x-python",
   "name": "python",
   "nbconvert_exporter": "python",
   "pygments_lexer": "ipython3",
   "version": "3.13.0"
  }
 },
 "nbformat": 4,
 "nbformat_minor": 5
}
